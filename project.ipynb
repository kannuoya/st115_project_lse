{
 "cells": [
  {
   "cell_type": "code",
   "execution_count": 43,
   "id": "2e209acf",
   "metadata": {
    "scrolled": true
   },
   "outputs": [
    {
     "data": {
      "text/plain": [
       "['Philippe Aghion',\n",
       " 'Nava Ashraf',\n",
       " 'Oriana Bandiera',\n",
       " 'Sir Charles Bean',\n",
       " 'Tim Besley',\n",
       " 'Mohan Bijapur',\n",
       " 'Gharad Bryan',\n",
       " 'Robin Burgess',\n",
       " 'Michael Callen',\n",
       " 'Francesco Caselli',\n",
       " 'Frank Cowell',\n",
       " 'Wouter Den Haan',\n",
       " 'Maarten De Ridder',\n",
       " 'Swati Dhingra',\n",
       " 'Jeremiah Dittmar',\n",
       " 'Matthias Doepke',\n",
       " 'Andrew Ellis',\n",
       " 'Alessandro Gavazza',\n",
       " 'Maitreesh Ghatak',\n",
       " 'Michael Gmeiner',\n",
       " 'Vassilis Hajivassiliou',\n",
       " 'Jonathon Hazell',\n",
       " 'Javier Hidalgo',\n",
       " 'Ethan Ilzetzki',\n",
       " 'Xavier Jaravel',\n",
       " 'Keyu Jin',\n",
       " 'Tatiana Komarova',\n",
       " 'Katarzyna Krajniewska',\n",
       " 'Camille Landais',\n",
       " 'Jonathan Leape',\n",
       " 'Gilat Levy',\n",
       " 'Matthew Levy',\n",
       " 'Stephen Machin',\n",
       " 'Isabela Manelici',\n",
       " 'Alan Manning',\n",
       " 'Rachael Meager',\n",
       " 'Antonio Mele',\n",
       " 'Guy Michaels',\n",
       " 'Benjamin Moll',\n",
       " 'John Moore',\n",
       " 'Dmitry Mukhin',\n",
       " 'Francesco Nava',\n",
       " 'Rachel Ngai',\n",
       " 'Junius Olivier',\n",
       " 'Taisuke Otsu',\n",
       " 'Martin Pesendorfer',\n",
       " 'Dimitra Petropoulou',\n",
       " 'Michele Piccione',\n",
       " 'Steve Pischke',\n",
       " 'Sir Christopher Pissarides',\n",
       " 'Ronny Razin',\n",
       " 'Daniel Reck',\n",
       " 'Ricardo Reis',\n",
       " 'Nico Rosetti',\n",
       " 'Jane Olmstead-Rumsey',\n",
       " 'Thomas Sampson',\n",
       " 'Christopher Sandmann',\n",
       " 'Marcia Schafgans',\n",
       " 'Mark Schankerman',\n",
       " 'Pasquale Schiraldi',\n",
       " 'Judith Shapiro',\n",
       " 'Kevin Sheedy',\n",
       " 'Kate Smith',\n",
       " 'Johannes Spinnewijn',\n",
       " 'Lord Nicholas Stern',\n",
       " 'Daniel Sturm',\n",
       " 'John Sutton',\n",
       " 'Balazs Szentes',\n",
       " 'Silvana Tenreyro',\n",
       " 'John Van Reenen',\n",
       " 'Yike Wang',\n",
       " 'Alwyn Young',\n",
       " 'Shengxing Zhang']"
      ]
     },
     "execution_count": 43,
     "metadata": {},
     "output_type": "execute_result"
    }
   ],
   "source": [
    "import requests\n",
    "from bs4 import BeautifulSoup\n",
    "import numpy as np\n",
    "import pandas as pd\n",
    "\n",
    "# Send a request to the URL of the web page\n",
    "page = requests.get(\"https://www.lse.ac.uk/economics/people/faculty\")\n",
    "\n",
    "# Create a BeautifulSoup object from the page content\n",
    "soup = BeautifulSoup(page.content, 'html.parser')\n",
    "divs = soup.select('html > body > form > div:nth-of-type(3) > div > div:nth-of-type(2) > div > div')\n",
    "num_of_staff = len(divs) + 1\n",
    "names = []\n",
    "\n",
    "for n in range(1,num_of_staff):\n",
    "    staff = soup.select_one(f'html > body > form > div:nth-of-type(3) > div > div:nth-of-type(2) > div > div:nth-of-type({n}) > div:nth-of-type(2) > p > a')\n",
    "    staff_detail = staff.text\n",
    "# Split the string into two parts at the first occurrence of \"/\"\n",
    "    parts = staff_detail.split('/', 1)\n",
    "# Get the first part of the resulting list for the full name\n",
    "    substring = parts[0]\n",
    "    names.append(substring)\n",
    "    \n",
    "names"
   ]
  },
  {
   "cell_type": "code",
   "execution_count": 1,
   "id": "6bfd59b5",
   "metadata": {
    "scrolled": true
   },
   "outputs": [
    {
     "name": "stdout",
     "output_type": "stream",
     "text": [
      "API key is valid!\n"
     ]
    }
   ],
   "source": [
    "import json\n",
    "import requests\n",
    "\n",
    "with open('keys.json') as f:\n",
    "    keys = json.load(f)\n",
    "api_key = keys['spring']['api_key']\n",
    "\n",
    "url = 'https://api.springernature.com'\n",
    "params = {'name': 'Philippe Aghion', 'api_key': api_key}\n",
    "response = requests.get(url,params = params)\n",
    "\n",
    "if response.status_code == 200:\n",
    "    print(\"API key is valid!\")\n",
    "else:\n",
    "    print(\"API key is not valid.\")"
   ]
  },
  {
   "cell_type": "code",
   "execution_count": null,
   "id": "02bb1a9e",
   "metadata": {
    "scrolled": false
   },
   "outputs": [],
   "source": [
    "dict_co_creator_name={}\n",
    "for name in names:\n",
    "    list_name = name.split(' ')\n",
    "    first_name = list_name[0]\n",
    "    surname = list_name[1]\n",
    "    reformat_name = surname + ', '+ first_name\n",
    "    url=f'https://api.springernature.com/metadata/json?api_key={api_key}&q=name%3A%22{surname}%2C%20{first_name}%22%2C%20subject%3AEconomics&s=1&p=10'\n",
    "    r = requests.get(url)\n",
    "    search_result = json.loads(r.text)\n",
    "    dict_co_creator_name[name] = []\n",
    "    for i in range (len(search_result['records'])):\n",
    "        creators = search_result['records'][i]['creators']\n",
    "        for creator in creators:\n",
    "            co_creator = creator['creator']\n",
    "            if co_creator != reformat_name:\n",
    "                list_name = co_creator.split(',')\n",
    "                first_name = list_name[1][1:]\n",
    "                surname = list_name[0]\n",
    "                format_name = first_name+' '+surname\n",
    "                if format_name not in dict_co_creator_name[name]:\n",
    "                    dict_co_creator_name[name].append(format_name)\n",
    "print(dict_co_creator_name)"
   ]
  },
  {
   "cell_type": "code",
   "execution_count": null,
   "id": "b5df29e7",
   "metadata": {},
   "outputs": [],
   "source": []
  }
 ],
 "metadata": {
  "kernelspec": {
   "display_name": "Python 3 (ipykernel)",
   "language": "python",
   "name": "python3"
  },
  "language_info": {
   "codemirror_mode": {
    "name": "ipython",
    "version": 3
   },
   "file_extension": ".py",
   "mimetype": "text/x-python",
   "name": "python",
   "nbconvert_exporter": "python",
   "pygments_lexer": "ipython3",
   "version": "3.9.12"
  }
 },
 "nbformat": 4,
 "nbformat_minor": 5
}
