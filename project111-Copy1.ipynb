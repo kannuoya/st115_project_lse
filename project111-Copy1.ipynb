{
 "cells": [
  {
   "cell_type": "markdown",
   "id": "fe46b3ff",
   "metadata": {},
   "source": [
    "# Analysis on LSE, UCL, and Oxbridge Economics Department Faculty Staff Academic Contribution"
   ]
  },
  {
   "cell_type": "markdown",
   "id": "23e31353",
   "metadata": {},
   "source": [
    "<h1>Table of Contents<span class=\"tocSkip\"></span></h1>\n",
    "<div class=\"toc\"><ul class=\"toc-item\"><li><span><a href=\"#Analysis-on-Tweets-concerning-Malaysia's-Budget-2021\" data-toc-modified-id=\"Analysis-on-Tweets-concerning-Malaysia's-Budget-2021-1\"><span class=\"toc-item-num\">1&nbsp;&nbsp;</span>Analysis on Tweets concerning Malaysia's Budget 2021</a></span></li><li><span><a href=\"#Introduction-and-Data-Description\" data-toc-modified-id=\"Introduction-and-Data-Description-2\"><span class=\"toc-item-num\">2&nbsp;&nbsp;</span>Introduction and Data Description</a></span><ul class=\"toc-item\"><li><ul class=\"toc-item\"><li><span><a href=\"#Malaysia's-Budget-2021\" data-toc-modified-id=\"Malaysia's-Budget-2021-2.0.1\"><span class=\"toc-item-num\">2.0.1&nbsp;&nbsp;</span>Malaysia's Budget 2021</a></span></li><li><span><a href=\"#Data-Description\" data-toc-modified-id=\"Data-Description-2.0.2\"><span class=\"toc-item-num\">2.0.2&nbsp;&nbsp;</span>Data Description</a></span></li></ul></li></ul></li><li><span><a href=\"#Research-Questions\" data-toc-modified-id=\"Research-Questions-3\"><span class=\"toc-item-num\">3&nbsp;&nbsp;</span>Research Questions</a></span></li><li><span><a href=\"#Data-Acquisition\" data-toc-modified-id=\"Data-Acquisition-4\"><span class=\"toc-item-num\">4&nbsp;&nbsp;</span>Data Acquisition</a></span><ul class=\"toc-item\"><li><ul class=\"toc-item\"><li><span><a href=\"#Google-Trends-Data\" data-toc-modified-id=\"Google-Trends-Data-4.0.1\"><span class=\"toc-item-num\">4.0.1&nbsp;&nbsp;</span>Google Trends Data</a></span></li><li><span><a href=\"#Tweets-from-Twitter\" data-toc-modified-id=\"Tweets-from-Twitter-4.0.2\"><span class=\"toc-item-num\">4.0.2&nbsp;&nbsp;</span>Tweets from Twitter</a></span></li><li><span><a href=\"#Malaysia's-news-media-companies-and-their-respective-Twitter-accounts\" data-toc-modified-id=\"Malaysia's-news-media-companies-and-their-respective-Twitter-accounts-4.0.3\"><span class=\"toc-item-num\">4.0.3&nbsp;&nbsp;</span>Malaysia's news media companies and their respective Twitter accounts</a></span></li><li><span><a href=\"#Malaysia's-Budget-Speech-2021-by-the-Prime-Minister-and-the-Minister-of-Finance-of-Malaysia\" data-toc-modified-id=\"Malaysia's-Budget-Speech-2021-by-the-Prime-Minister-and-the-Minister-of-Finance-of-Malaysia-4.0.4\"><span class=\"toc-item-num\">4.0.4&nbsp;&nbsp;</span>Malaysia's Budget Speech 2021 by the Prime Minister and the Minister of Finance of Malaysia</a></span></li></ul></li></ul></li><li><span><a href=\"#Data-Cleaning\" data-toc-modified-id=\"Data-Cleaning-5\"><span class=\"toc-item-num\">5&nbsp;&nbsp;</span>Data Cleaning</a></span><ul class=\"toc-item\"><li><ul class=\"toc-item\"><li><span><a href=\"#Missing-Data\" data-toc-modified-id=\"Missing-Data-5.0.1\"><span class=\"toc-item-num\">5.0.1&nbsp;&nbsp;</span>Missing Data</a></span></li></ul></li></ul></li><li><span><a href=\"#Data-Analysis\" data-toc-modified-id=\"Data-Analysis-6\"><span class=\"toc-item-num\">6&nbsp;&nbsp;</span>Data Analysis</a></span><ul class=\"toc-item\"><li><span><a href=\"#Exploratory-Data-Analysis-(EDA)\" data-toc-modified-id=\"Exploratory-Data-Analysis-(EDA)-6.1\"><span class=\"toc-item-num\">6.1&nbsp;&nbsp;</span>Exploratory Data Analysis (EDA)</a></span></li><li><span><a href=\"#Q1:-Is-public-sentiment-towards-the-budget-as-negative-as-portrayed-by-the-media?\" data-toc-modified-id=\"Q1:-Is-public-sentiment-towards-the-budget-as-negative-as-portrayed-by-the-media?-6.2\"><span class=\"toc-item-num\">6.2&nbsp;&nbsp;</span>Q1: Is public sentiment towards the budget as negative as portrayed by the media?</a></span><ul class=\"toc-item\"><li><span><a href=\"#Sentiment-Analysis-of-Tweets\" data-toc-modified-id=\"Sentiment-Analysis-of-Tweets-6.2.1\"><span class=\"toc-item-num\">6.2.1&nbsp;&nbsp;</span>Sentiment Analysis of Tweets</a></span></li></ul></li><li><span><a href=\"#Q2:-What-are-the-reason(s)-they-gave-to-justify-their-(dis)agreement-with-Budget-2021?-Are-these-reasons-aligned-with-the-focus-of-the-official-Budget-2021?\" data-toc-modified-id=\"Q2:-What-are-the-reason(s)-they-gave-to-justify-their-(dis)agreement-with-Budget-2021?-Are-these-reasons-aligned-with-the-focus-of-the-official-Budget-2021?-6.3\"><span class=\"toc-item-num\">6.3&nbsp;&nbsp;</span>Q2: What are the reason(s) they gave to justify their (dis)agreement with Budget 2021? Are these reasons aligned with the focus of the official Budget 2021?</a></span></li><li><span><a href=\"#Q3:-Did-the-media-coverage-of-Budget-2021-differ-by-news-media-companies-in-Malaysia?\" data-toc-modified-id=\"Q3:-Did-the-media-coverage-of-Budget-2021-differ-by-news-media-companies-in-Malaysia?-6.4\"><span class=\"toc-item-num\">6.4&nbsp;&nbsp;</span>Q3: Did the media coverage of Budget 2021 differ by news media companies in Malaysia?</a></span></li></ul></li><li><span><a href=\"#Conclusion\" data-toc-modified-id=\"Conclusion-7\"><span class=\"toc-item-num\">7&nbsp;&nbsp;</span>Conclusion</a></span><ul class=\"toc-item\"><li><ul class=\"toc-item\"><li><span><a href=\"#References\" data-toc-modified-id=\"References-7.0.1\"><span class=\"toc-item-num\">7.0.1&nbsp;&nbsp;</span>References</a></span></li></ul></li></ul></li></ul></div>"
   ]
  },
  {
   "cell_type": "code",
   "execution_count": 1,
   "id": "e821c5d8",
   "metadata": {
    "scrolled": false
   },
   "outputs": [],
   "source": [
    "import requests\n",
    "from bs4 import BeautifulSoup\n",
    "import pandas as pd\n",
    "import json"
   ]
  },
  {
   "cell_type": "code",
   "execution_count": 2,
   "id": "a97adc20",
   "metadata": {},
   "outputs": [],
   "source": [
    "# list of names of department of economics faulty staff from London School of Economics and Political Science\n",
    "\n",
    "# Send a request to the URL of the web page\n",
    "page = requests.get(\"https://www.lse.ac.uk/economics/people/faculty\")\n",
    "\n",
    "# Create a BeautifulSoup object from the page content\n",
    "lse_soup = BeautifulSoup(page.content, 'html.parser')\n",
    "lse_divs = lse_soup.select('html > body > form > div:nth-of-type(3) > div > div:nth-of-type(2) > div > div')\n",
    "lse_num_of_staff = len(lse_divs) + 1\n",
    "lse_names = []\n",
    "\n",
    "for n in range(1,lse_num_of_staff):\n",
    "    lse_staff = lse_soup.select_one(f'html > body > form > div:nth-of-type(3) > div > div:nth-of-type(2) > div > div:nth-of-type({n}) > div:nth-of-type(2) > p > a')\n",
    "    lse_staff_detail = lse_staff.text\n",
    "    # Split the string into two parts at the first occurrence of \"/\"\n",
    "    parts = lse_staff_detail.split('/', 1)\n",
    "    # Get the first part of the resulting list for the full name\n",
    "    substring = parts[0]\n",
    "    lse_names.append(substring)"
   ]
  },
  {
   "cell_type": "code",
   "execution_count": 3,
   "id": "4dd6b83b",
   "metadata": {
    "scrolled": false
   },
   "outputs": [],
   "source": [
    "# list of names of department of economics faulty staff from University College of London\n",
    "\n",
    "ucl_url = 'https://www.ucl.ac.uk/economics/people/academic-and-teaching-staff'\n",
    "ucl_r = requests.get(ucl_url)\n",
    "ucl_soup = BeautifulSoup(ucl_r.content,'lxml')\n",
    "ucl_names = []\n",
    "for tab in ucl_soup.find_all('article'):\n",
    "    for section in tab.find_all('section', {'class': 'middle-split__column1'}):\n",
    "        for h4 in section.find('h4'):\n",
    "            # clean the name\n",
    "            h4 = (h4.text).replace('\\xa0','')\n",
    "            if h4 == '':\n",
    "                break\n",
    "            else:\n",
    "                ucl_names.append(h4)"
   ]
  },
  {
   "cell_type": "code",
   "execution_count": 4,
   "id": "4f91d59f",
   "metadata": {
    "scrolled": false
   },
   "outputs": [],
   "source": [
    "# list of names of department of economics faulty staff from University of Cambridge\n",
    "\n",
    "cam_url = 'https://www.econ.cam.ac.uk/people/academic-staff-atoe'\n",
    "cam_r = requests.get(cam_url)\n",
    "cam_soup = BeautifulSoup(cam_r.content, 'lxml')\n",
    "cam_names = []\n",
    "for i in range(0, len(cam_soup.find_all('strong')), 2):\n",
    "    cam_name = cam_soup.find_all('strong')[i].text\n",
    "    cam_names.append(cam_name)"
   ]
  },
  {
   "cell_type": "code",
   "execution_count": 5,
   "id": "84682a25",
   "metadata": {},
   "outputs": [],
   "source": [
    "# list of names of department of economics faulty staff from University of Oxford\n",
    "ox_names = ['Alison Andrew', 'Maximilian Ahrens', 'Johannes Abeler', 'Abi Adams-Prassl', \n",
    "            'Muhammad Farid Ahmed', 'Elizabeth Baldwin', 'Miguel Ballester', 'Alan Beggs', \n",
    "            'Vanessa Berenguer Rico', 'Andrea Bernini', 'Mattia Bertazzini', 'Steve Bond', \n",
    "            'Christopher Bowdler', 'Stephen Broadberry', 'Andrea Chiavari', 'Giulia Caprini', \n",
    "            'Jean-Paul Carvalho', 'Eric Chaney', 'Sarah Clifford', 'Paola Conconi', 'Simon Cowan',\n",
    "            'Ian Crawford', 'Sergio De Ferra', 'Stefan Dercon', 'Francis Ditraglia', \n",
    "            'Artur Doshchyn', 'James Duffy', 'Dennis Egger', 'Martin Ellison', 'Peter Eso', \n",
    "            'Andrea Ferrero', 'Douglas Gollin', 'Ayden Higgins', 'Sanjay Jain',\n",
    "            'Katharina Janezic', 'Beata Javorcik', 'Ian Jewitt', 'Maximilian Kasy', 'Paul Klemperer',\n",
    "            'Anders Kock', 'Alexandre Kohlhas', 'Nathan Lane', 'Hamish Low', 'Viktor Marinkov',\n",
    "            'Sophocles Mavroeidis', 'Michael McMahon', 'Romuald Méango', 'Rajssa Mechelli',\n",
    "            'Margaret Meyer', 'Niclas Moneke', 'Inès Moreno De Barreda', 'Bent Nielsen','Paula Onuchic', \n",
    "            'Banu Demir Pakel', 'Alexei Parakhonyak', 'Andrea Pasqualini','Barbara Petrongolo',\n",
    "            'Daniel Quigley', 'Simon Quinn', 'Federica Romei', 'Lidia Smitkova','Petr Sedlacek', \n",
    "            'Kevin Sheppard', 'Ludvig Sinander', 'Howard Smith', 'Alex Teytelboym',\n",
    "            'Séverine Toussaert', 'Rick Van Der Ploeg', 'John Vickers', 'Martin Weidner', 'Francesco Zanetti']"
   ]
  },
  {
   "cell_type": "code",
   "execution_count": 6,
   "id": "c68f867e",
   "metadata": {},
   "outputs": [
    {
     "name": "stdout",
     "output_type": "stream",
     "text": [
      "['Philippe Aghion', 'Nava Ashraf', 'Oriana Bandiera', 'Charles Bean', 'Tim Besley', 'Mohan Bijapur', 'Gharad Bryan', 'Robin Burgess', 'Michael Callen', 'Francesco Caselli', 'Frank Cowell', 'Wouter Den Haan', 'Maarten De Ridder', 'Swati Dhingra', 'Jeremiah Dittmar', 'Matthias Doepke', 'Andrew Ellis', 'Alessandro Gavazza', 'Maitreesh Ghatak', 'Michael Gmeiner', 'Vassilis Hajivassiliou', 'Jonathon Hazell', 'Javier Hidalgo', 'Ethan Ilzetzki', 'Xavier Jaravel', 'Keyu Jin', 'Tatiana Komarova', 'Katarzyna Krajniewska', 'Camille Landais', 'Jonathan Leape', 'Gilat Levy', 'Matthew Levy', 'Stephen Machin', 'Isabela Manelici', 'Alan Manning', 'Rachael Meager', 'Antonio Mele', 'Guy Michaels', 'Benjamin Moll', 'John Moore', 'Dmitry Mukhin', 'Francesco Nava', 'Rachel Ngai', 'Junius Olivier', 'Taisuke Otsu', 'Martin Pesendorfer', 'Dimitra Petropoulou', 'Michele Piccione', 'Steve Pischke', 'Christopher Pissarides', 'Ronny Razin', 'Daniel Reck', 'Ricardo Reis', 'Nico Rosetti', 'Jane Olmstead-Rumsey', 'Thomas Sampson', 'Christopher Sandmann', 'Marcia Schafgans', 'Mark Schankerman', 'Pasquale Schiraldi', 'Judith Shapiro', 'Kevin Sheedy', 'Kate Smith', 'Johannes Spinnewijn', 'Lord Nicholas Stern', 'Daniel Sturm', 'John Sutton', 'Balazs Szentes', 'Silvana Tenreyro', 'John Van Reenen', 'Yike Wang', 'Alwyn Young', 'Shengxing Zhang']\n",
      "-----------------------------------------------------------------\n",
      "['Antonio Guarino', 'Beatriz Armendariz', 'Mark Armstrong', 'Orazio Attanasio', 'Saleem Bahaj', 'Richard Blundell', 'Kirill Borusyak', 'Wendy Carlin', 'Pedro Carneiro', 'Parama Chaudhury', 'Andrew Chesher', 'Timothy Christensen', 'Gabriella Conti', 'Martin Cripps', 'Wei Cui', 'Silvia Dal Bianco', 'Ben Deaner', 'Aureo De Paula', 'Christian Dustmann', 'Raffaella Giacomini', 'DuarteGoncalves', 'Hugh Goodacre', 'Alex Gorbenko', 'JoaoGranja', 'Rodrigo Guimaraes', 'Stephen Hansen', 'Jonas Hjort', 'Steffen Huck', 'Philippe Jehiel', 'Deniz Kattwinkel', 'Toru Kitagawa', 'Terri Kneeland', 'Dennis Kristensen', 'Hyejin Ku', 'Guy Laroque', 'Valerie Lechene', 'Daniel Lewis', 'Dunli Li', 'Attila Lindner', 'Ralph Luetticke', 'Frederic Malherbe', 'Kalina Manova', 'Ramin Nassehi', 'Lars Nesheim', 'Alan Olivi', 'Duygu Ozdemir', 'Malcolm Pemberton', 'Suphanit Piyapromdee', 'Franck Portier', 'Peter Postl', 'Fabien Postel-Vinay', 'Ian Preston', 'Lukasz Rachel', 'Imran Rasul', 'Morten Ravn', 'Victor Rios-Rull', 'Nikita Roketskiy', 'Uta Schoenberg', 'Vasiliki Skreta', 'Stephen Smith', 'Ran Spiegler', 'Vincent Sterk', 'Michael Thaler', 'Michela Tincani', 'Marcos Vera Hernandez', 'Daniel Wilhelm', 'Frank Witte', 'Ming Yang', 'Ji Hee Yoon', 'Andrei Zeleneev']\n",
      "-----------------------------------------------------------------\n",
      "['Toke Aidt', 'Carolina Alves', 'Noriko Amano-Patiño', 'Michael Ashby', 'Seda Basihos', 'Victoria Bateman', 'Max Beber', 'Francisco Beltran', 'Debopam Bhattacharya', 'Florin Bilbiie', 'Juan Block', 'Peter Bossaerts', 'Paul Bouscasse', 'Charles Brendon', 'Ivano Cardinale', 'Vasco Carvalho', 'Daniele Cassese', 'Tiago Cavalcanti', 'George Charlson', 'Monojit Chatterji', 'Yujiang River Chen', 'Chuan-Han Cheng', 'Tony Cockerill', 'Collin Constantine', 'Giancarlo Corsetti', 'Ken Coutts', 'Meredith Crowley', 'Partha Dasgupta', 'Jeremy Edwards', 'Matthew Elliott', 'Aytek Erdil', 'Robert Evans']\n",
      "-----------------------------------------------------------------\n",
      "['Alison Andrew', 'Maximilian Ahrens', 'Johannes Abeler', 'Abi Adams-Prassl', 'Muhammad Farid Ahmed', 'Elizabeth Baldwin', 'Miguel Ballester', 'Alan Beggs', 'Vanessa Berenguer Rico', 'Andrea Bernini', 'Mattia Bertazzini', 'Steve Bond', 'Christopher Bowdler', 'Stephen Broadberry', 'Andrea Chiavari', 'Giulia Caprini', 'Jean-Paul Carvalho', 'Eric Chaney', 'Sarah Clifford', 'Paola Conconi', 'Simon Cowan', 'Ian Crawford', 'Sergio De Ferra', 'Stefan Dercon', 'Francis Ditraglia', 'Artur Doshchyn', 'James Duffy', 'Dennis Egger', 'Martin Ellison', 'Peter Eso', 'Andrea Ferrero', 'Douglas Gollin', 'Ayden Higgins', 'Sanjay Jain', 'Katharina Janezic', 'Beata Javorcik', 'Ian Jewitt', 'Maximilian Kasy', 'Paul Klemperer', 'Anders Kock', 'Alexandre Kohlhas', 'Nathan Lane', 'Hamish Low', 'Viktor Marinkov', 'Sophocles Mavroeidis', 'Michael McMahon', 'Romuald Méango', 'Rajssa Mechelli', 'Margaret Meyer', 'Niclas Moneke', 'Inès Moreno De Barreda', 'Bent Nielsen', 'Paula Onuchic', 'Banu Demir Pakel', 'Alexei Parakhonyak', 'Andrea Pasqualini', 'Barbara Petrongolo', 'Daniel Quigley', 'Simon Quinn', 'Federica Romei', 'Lidia Smitkova', 'Petr Sedlacek', 'Kevin Sheppard', 'Ludvig Sinander', 'Howard Smith', 'Alex Teytelboym', 'Séverine Toussaert', 'Rick Van Der Ploeg', 'John Vickers', 'Martin Weidner', 'Francesco Zanetti']\n"
     ]
    }
   ],
   "source": [
    "# to reformat the name without address and whitespace\n",
    "\n",
    "def reform_name(name):\n",
    "    name_after = ''\n",
    "    for word in name.split():\n",
    "        if word != 'Dr' and word != 'Professor' and word != 'Sir' and word != 'Prof':\n",
    "            name_after += (word+' ')\n",
    "    return name_after.strip()\n",
    "\n",
    "lse_names = list(map(lambda x: reform_name(x), lse_names))\n",
    "ucl_names = list(map(lambda x: reform_name(x), ucl_names))\n",
    "cam_names = list(map(lambda x: reform_name(x), cam_names))\n",
    "ox_names = list(map(lambda x: reform_name(x), ox_names))\n",
    "\n",
    "print(lse_names)\n",
    "print('-----------------------------------------------------------------')\n",
    "print(ucl_names)\n",
    "print('-----------------------------------------------------------------')\n",
    "print(cam_names)\n",
    "print('-----------------------------------------------------------------')\n",
    "print(ox_names)"
   ]
  },
  {
   "cell_type": "code",
   "execution_count": 7,
   "id": "e466e66a",
   "metadata": {
    "scrolled": true
   },
   "outputs": [
    {
     "name": "stdout",
     "output_type": "stream",
     "text": [
      "API key is valid!\n"
     ]
    }
   ],
   "source": [
    "#import api: springer nature\n",
    "\n",
    "with open('keys.json') as f:\n",
    "    keys = json.load(f)\n",
    "api_key = keys['spring']['api_key']\n",
    "\n",
    "url = 'https://api.springernature.com'\n",
    "params = {'name': 'Philippe Aghion', 'api_key': api_key}\n",
    "response = requests.get(url,params = params)\n",
    "\n",
    "if response.status_code == 200:\n",
    "    print(\"API key is valid!\")\n",
    "else:\n",
    "    print(\"API key is not valid.\")\n"
   ]
  },
  {
   "cell_type": "code",
   "execution_count": 8,
   "id": "facd41c6",
   "metadata": {
    "scrolled": true
   },
   "outputs": [
    {
     "ename": "NameError",
     "evalue": "name 'names' is not defined",
     "output_type": "error",
     "traceback": [
      "\u001b[0;31m---------------------------------------------------------------------------\u001b[0m",
      "\u001b[0;31mNameError\u001b[0m                                 Traceback (most recent call last)",
      "Input \u001b[0;32mIn [8]\u001b[0m, in \u001b[0;36m<cell line: 3>\u001b[0;34m()\u001b[0m\n\u001b[1;32m      1\u001b[0m dict_co_creator_name\u001b[38;5;241m=\u001b[39m{}\n\u001b[1;32m      2\u001b[0m dict_num_paper\u001b[38;5;241m=\u001b[39m{}\n\u001b[0;32m----> 3\u001b[0m \u001b[38;5;28;01mfor\u001b[39;00m name \u001b[38;5;129;01min\u001b[39;00m \u001b[43mnames\u001b[49m:\n\u001b[1;32m      4\u001b[0m     list_name \u001b[38;5;241m=\u001b[39m delete_address(name)\n\u001b[1;32m      5\u001b[0m     list_name \u001b[38;5;241m=\u001b[39m list_name\u001b[38;5;241m.\u001b[39msplit(\u001b[38;5;124m'\u001b[39m\u001b[38;5;124m \u001b[39m\u001b[38;5;124m'\u001b[39m)\n",
      "\u001b[0;31mNameError\u001b[0m: name 'names' is not defined"
     ]
    }
   ],
   "source": [
    "dict_co_creator_name={}\n",
    "dict_num_paper={}\n",
    "for name in names:\n",
    "    list_name = delete_address(name)\n",
    "    list_name = list_name.split(' ')\n",
    "    first_name = list_name[0]\n",
    "    surname = list_name[1]\n",
    "    reformat_name = surname + ', '+ first_name\n",
    "    url=f'https://api.springernature.com/metadata/json?api_key={api_key}&q=name%3A%22{surname}%2C%20{first_name}%22%2C%20subject%3AEconomics&s=1&p=10'\n",
    "    r = requests.get(url)\n",
    "    search_result = json.loads(r.text)\n",
    "    dict_co_creator_name[name] = []\n",
    "    for i in range (len(search_result['records'])):\n",
    "        creators = search_result['records'][i]['creators']\n",
    "        for creator in creators:\n",
    "            co_creator = creator['creator']\n",
    "            if co_creator != reformat_name:\n",
    "                list_name = co_creator.split(',')\n",
    "                first_name = list_name[1][1:]\n",
    "                surname = list_name[0]\n",
    "                format_name = first_name+' '+surname\n",
    "                if format_name not in dict_co_creator_name[name]:\n",
    "                    dict_co_creator_name[name].append(format_name)\n",
    "    \n",
    "    dict_num_paper[name]=0\n",
    "    years = search_result[\"facets\"][3]['values']\n",
    "    total_num_papers = 0\n",
    "    for year in years:\n",
    "        dict_num_paper[name] += int(year['count'])\n",
    "print(dict_co_creator_name)\n",
    "print(dict_num_paper)"
   ]
  },
  {
   "cell_type": "code",
   "execution_count": 10,
   "id": "ada29a32",
   "metadata": {},
   "outputs": [
    {
     "name": "stdout",
     "output_type": "stream",
     "text": [
      "Requirement already satisfied: scholarly in /Users/kannuoya/opt/anaconda3/lib/python3.9/site-packages (1.7.11)\n",
      "Requirement already satisfied: python-dotenv in /Users/kannuoya/opt/anaconda3/lib/python3.9/site-packages (from scholarly) (1.0.0)\n",
      "Requirement already satisfied: selenium in /Users/kannuoya/opt/anaconda3/lib/python3.9/site-packages (from scholarly) (4.9.0)\n",
      "Requirement already satisfied: arrow in /Users/kannuoya/opt/anaconda3/lib/python3.9/site-packages (from scholarly) (1.2.2)\n",
      "Requirement already satisfied: free-proxy in /Users/kannuoya/opt/anaconda3/lib/python3.9/site-packages (from scholarly) (1.1.1)\n",
      "Requirement already satisfied: typing-extensions in /Users/kannuoya/opt/anaconda3/lib/python3.9/site-packages (from scholarly) (4.1.1)\n",
      "Requirement already satisfied: httpx in /Users/kannuoya/opt/anaconda3/lib/python3.9/site-packages (from scholarly) (0.24.0)\n",
      "Requirement already satisfied: sphinx-rtd-theme in /Users/kannuoya/opt/anaconda3/lib/python3.9/site-packages (from scholarly) (1.2.0)\n",
      "Requirement already satisfied: beautifulsoup4 in /Users/kannuoya/opt/anaconda3/lib/python3.9/site-packages (from scholarly) (4.11.1)\n",
      "Requirement already satisfied: fake-useragent in /Users/kannuoya/opt/anaconda3/lib/python3.9/site-packages (from scholarly) (1.1.3)\n",
      "Requirement already satisfied: bibtexparser in /Users/kannuoya/opt/anaconda3/lib/python3.9/site-packages (from scholarly) (1.4.0)\n",
      "Requirement already satisfied: requests[socks] in /Users/kannuoya/opt/anaconda3/lib/python3.9/site-packages (from scholarly) (2.27.1)\n",
      "Requirement already satisfied: deprecated in /Users/kannuoya/opt/anaconda3/lib/python3.9/site-packages (from scholarly) (1.2.13)\n",
      "Requirement already satisfied: python-dateutil>=2.7.0 in /Users/kannuoya/opt/anaconda3/lib/python3.9/site-packages (from arrow->scholarly) (2.8.2)\n",
      "Requirement already satisfied: six>=1.5 in /Users/kannuoya/opt/anaconda3/lib/python3.9/site-packages (from python-dateutil>=2.7.0->arrow->scholarly) (1.16.0)\n",
      "Requirement already satisfied: soupsieve>1.2 in /Users/kannuoya/opt/anaconda3/lib/python3.9/site-packages (from beautifulsoup4->scholarly) (2.3.1)\n",
      "Requirement already satisfied: pyparsing>=2.0.3 in /Users/kannuoya/opt/anaconda3/lib/python3.9/site-packages (from bibtexparser->scholarly) (3.0.4)\n",
      "Requirement already satisfied: wrapt<2,>=1.10 in /Users/kannuoya/opt/anaconda3/lib/python3.9/site-packages (from deprecated->scholarly) (1.12.1)\n",
      "Requirement already satisfied: importlib-resources>=5.0 in /Users/kannuoya/opt/anaconda3/lib/python3.9/site-packages (from fake-useragent->scholarly) (5.12.0)\n",
      "Requirement already satisfied: zipp>=3.1.0 in /Users/kannuoya/opt/anaconda3/lib/python3.9/site-packages (from importlib-resources>=5.0->fake-useragent->scholarly) (3.7.0)\n",
      "Requirement already satisfied: lxml in /Users/kannuoya/opt/anaconda3/lib/python3.9/site-packages (from free-proxy->scholarly) (4.8.0)\n",
      "Requirement already satisfied: httpcore<0.18.0,>=0.15.0 in /Users/kannuoya/opt/anaconda3/lib/python3.9/site-packages (from httpx->scholarly) (0.17.0)\n",
      "Requirement already satisfied: idna in /Users/kannuoya/opt/anaconda3/lib/python3.9/site-packages (from httpx->scholarly) (3.3)\n",
      "Requirement already satisfied: sniffio in /Users/kannuoya/opt/anaconda3/lib/python3.9/site-packages (from httpx->scholarly) (1.2.0)\n",
      "Requirement already satisfied: certifi in /Users/kannuoya/opt/anaconda3/lib/python3.9/site-packages (from httpx->scholarly) (2021.10.8)\n",
      "Requirement already satisfied: h11<0.15,>=0.13 in /Users/kannuoya/opt/anaconda3/lib/python3.9/site-packages (from httpcore<0.18.0,>=0.15.0->httpx->scholarly) (0.14.0)\n",
      "Requirement already satisfied: anyio<5.0,>=3.0 in /Users/kannuoya/opt/anaconda3/lib/python3.9/site-packages (from httpcore<0.18.0,>=0.15.0->httpx->scholarly) (3.5.0)\n",
      "Requirement already satisfied: charset-normalizer~=2.0.0 in /Users/kannuoya/opt/anaconda3/lib/python3.9/site-packages (from requests[socks]->scholarly) (2.0.4)\n",
      "Requirement already satisfied: urllib3<1.27,>=1.21.1 in /Users/kannuoya/opt/anaconda3/lib/python3.9/site-packages (from requests[socks]->scholarly) (1.26.9)\n",
      "Requirement already satisfied: PySocks!=1.5.7,>=1.5.6 in /Users/kannuoya/opt/anaconda3/lib/python3.9/site-packages (from requests[socks]->scholarly) (1.7.1)\n",
      "Requirement already satisfied: trio~=0.17 in /Users/kannuoya/opt/anaconda3/lib/python3.9/site-packages (from selenium->scholarly) (0.22.0)\n",
      "Requirement already satisfied: trio-websocket~=0.9 in /Users/kannuoya/opt/anaconda3/lib/python3.9/site-packages (from selenium->scholarly) (0.10.2)\n",
      "Requirement already satisfied: outcome in /Users/kannuoya/opt/anaconda3/lib/python3.9/site-packages (from trio~=0.17->selenium->scholarly) (1.2.0)\n",
      "Requirement already satisfied: attrs>=19.2.0 in /Users/kannuoya/opt/anaconda3/lib/python3.9/site-packages (from trio~=0.17->selenium->scholarly) (21.4.0)\n",
      "Requirement already satisfied: sortedcontainers in /Users/kannuoya/opt/anaconda3/lib/python3.9/site-packages (from trio~=0.17->selenium->scholarly) (2.4.0)\n",
      "Requirement already satisfied: exceptiongroup>=1.0.0rc9 in /Users/kannuoya/opt/anaconda3/lib/python3.9/site-packages (from trio~=0.17->selenium->scholarly) (1.1.1)\n",
      "Requirement already satisfied: async-generator>=1.9 in /Users/kannuoya/opt/anaconda3/lib/python3.9/site-packages (from trio~=0.17->selenium->scholarly) (1.10)\n",
      "Requirement already satisfied: wsproto>=0.14 in /Users/kannuoya/opt/anaconda3/lib/python3.9/site-packages (from trio-websocket~=0.9->selenium->scholarly) (1.2.0)\n",
      "Requirement already satisfied: sphinx<7,>=1.6 in /Users/kannuoya/opt/anaconda3/lib/python3.9/site-packages (from sphinx-rtd-theme->scholarly) (4.4.0)\n",
      "Requirement already satisfied: sphinxcontrib-jquery!=3.0.0,>=2.0.0 in /Users/kannuoya/opt/anaconda3/lib/python3.9/site-packages (from sphinx-rtd-theme->scholarly) (4.1)\n",
      "Requirement already satisfied: docutils<0.19 in /Users/kannuoya/opt/anaconda3/lib/python3.9/site-packages (from sphinx-rtd-theme->scholarly) (0.17.1)\n",
      "Requirement already satisfied: sphinxcontrib-jsmath in /Users/kannuoya/opt/anaconda3/lib/python3.9/site-packages (from sphinx<7,>=1.6->sphinx-rtd-theme->scholarly) (1.0.1)\n",
      "Requirement already satisfied: sphinxcontrib-qthelp in /Users/kannuoya/opt/anaconda3/lib/python3.9/site-packages (from sphinx<7,>=1.6->sphinx-rtd-theme->scholarly) (1.0.3)\n",
      "Requirement already satisfied: sphinxcontrib-htmlhelp>=2.0.0 in /Users/kannuoya/opt/anaconda3/lib/python3.9/site-packages (from sphinx<7,>=1.6->sphinx-rtd-theme->scholarly) (2.0.0)\n",
      "Requirement already satisfied: packaging in /Users/kannuoya/opt/anaconda3/lib/python3.9/site-packages (from sphinx<7,>=1.6->sphinx-rtd-theme->scholarly) (21.3)\n",
      "Requirement already satisfied: babel>=1.3 in /Users/kannuoya/opt/anaconda3/lib/python3.9/site-packages (from sphinx<7,>=1.6->sphinx-rtd-theme->scholarly) (2.9.1)\n",
      "Requirement already satisfied: Jinja2>=2.3 in /Users/kannuoya/opt/anaconda3/lib/python3.9/site-packages (from sphinx<7,>=1.6->sphinx-rtd-theme->scholarly) (2.11.3)\n",
      "Requirement already satisfied: sphinxcontrib-serializinghtml>=1.1.5 in /Users/kannuoya/opt/anaconda3/lib/python3.9/site-packages (from sphinx<7,>=1.6->sphinx-rtd-theme->scholarly) (1.1.5)\n",
      "Requirement already satisfied: Pygments>=2.0 in /Users/kannuoya/opt/anaconda3/lib/python3.9/site-packages (from sphinx<7,>=1.6->sphinx-rtd-theme->scholarly) (2.11.2)\n",
      "Requirement already satisfied: sphinxcontrib-applehelp in /Users/kannuoya/opt/anaconda3/lib/python3.9/site-packages (from sphinx<7,>=1.6->sphinx-rtd-theme->scholarly) (1.0.2)\n",
      "Requirement already satisfied: importlib-metadata>=4.4 in /Users/kannuoya/opt/anaconda3/lib/python3.9/site-packages (from sphinx<7,>=1.6->sphinx-rtd-theme->scholarly) (4.11.3)\n",
      "Requirement already satisfied: sphinxcontrib-devhelp in /Users/kannuoya/opt/anaconda3/lib/python3.9/site-packages (from sphinx<7,>=1.6->sphinx-rtd-theme->scholarly) (1.0.2)\n",
      "Requirement already satisfied: snowballstemmer>=1.1 in /Users/kannuoya/opt/anaconda3/lib/python3.9/site-packages (from sphinx<7,>=1.6->sphinx-rtd-theme->scholarly) (2.2.0)\n",
      "Requirement already satisfied: alabaster<0.8,>=0.7 in /Users/kannuoya/opt/anaconda3/lib/python3.9/site-packages (from sphinx<7,>=1.6->sphinx-rtd-theme->scholarly) (0.7.12)\n",
      "Requirement already satisfied: imagesize in /Users/kannuoya/opt/anaconda3/lib/python3.9/site-packages (from sphinx<7,>=1.6->sphinx-rtd-theme->scholarly) (1.3.0)\n",
      "Requirement already satisfied: pytz>=2015.7 in /Users/kannuoya/opt/anaconda3/lib/python3.9/site-packages (from babel>=1.3->sphinx<7,>=1.6->sphinx-rtd-theme->scholarly) (2021.3)\n"
     ]
    },
    {
     "name": "stdout",
     "output_type": "stream",
     "text": [
      "Requirement already satisfied: MarkupSafe>=0.23 in /Users/kannuoya/opt/anaconda3/lib/python3.9/site-packages (from Jinja2>=2.3->sphinx<7,>=1.6->sphinx-rtd-theme->scholarly) (2.0.1)\n",
      "Note: you may need to restart the kernel to use updated packages.\n"
     ]
    }
   ],
   "source": [
    "pip install scholarly"
   ]
  },
  {
   "cell_type": "code",
   "execution_count": 12,
   "id": "0244e6e3",
   "metadata": {},
   "outputs": [],
   "source": [
    "from scholarly import scholarly\n",
    "\n",
    "\n",
    "def get_publication_num(name):\n",
    "    try:\n",
    "        # Retrieve the author's data, fill-in, and print publication numbers\n",
    "        # Get an iterator for the author results\n",
    "        search_query = scholarly.search_author(name)\n",
    "\n",
    "        # Retrieve the first result from the iterator\n",
    "        first_author_result = next(search_query)\n",
    "\n",
    "        # Retrieve all the details for the author\n",
    "        author = scholarly.fill(first_author_result)\n",
    "\n",
    "        # use number of the titles of the author's publications \n",
    "        publication_titles = [pub['bib']['title'] for pub in author['publications']]\n",
    "        \n",
    "        return len(publication_titles)\n",
    "    \n",
    "    except StopIteration:\n",
    "        # If StopIteration is raised, return 0\n",
    "        return 0\n",
    "\n",
    "\n",
    "def get_num_citedby(name):\n",
    "    try:\n",
    "        # Retrieve the author's data, fill-in, and print publication numbers\n",
    "        # Get an iterator for the author results\n",
    "        search_query = scholarly.search_author(name)\n",
    "\n",
    "        # Retrieve the first result from the iterator\n",
    "        first_author_result = next(search_query)\n",
    "\n",
    "        # Retrieve all the details for the author\n",
    "        author = scholarly.fill(first_author_result)\n",
    "        \n",
    "        #get number of citedby\n",
    "        num_cite = first_author_result['citedby']\n",
    "        return num_cite\n",
    "    \n",
    "    except StopIteration:\n",
    "        # If StopIteration is raised, return 0\n",
    "        return 0"
   ]
  },
  {
   "cell_type": "code",
   "execution_count": 13,
   "id": "fd5efa45",
   "metadata": {
    "scrolled": true
   },
   "outputs": [
    {
     "ename": "KeyError",
     "evalue": "'citedby'",
     "output_type": "error",
     "traceback": [
      "\u001b[0;31m---------------------------------------------------------------------------\u001b[0m",
      "\u001b[0;31mKeyError\u001b[0m                                  Traceback (most recent call last)",
      "Input \u001b[0;32mIn [13]\u001b[0m, in \u001b[0;36m<cell line: 6>\u001b[0;34m()\u001b[0m\n\u001b[1;32m      4\u001b[0m cam_citedby \u001b[38;5;241m=\u001b[39m {}\n\u001b[1;32m      6\u001b[0m \u001b[38;5;28;01mfor\u001b[39;00m name \u001b[38;5;129;01min\u001b[39;00m ucl_names:\n\u001b[0;32m----> 7\u001b[0m     ucl_staff_citedby \u001b[38;5;241m=\u001b[39m \u001b[43mget_num_citedby\u001b[49m\u001b[43m(\u001b[49m\u001b[43mname\u001b[49m\u001b[43m)\u001b[49m\n\u001b[1;32m      8\u001b[0m     ucl_citedby[name] \u001b[38;5;241m=\u001b[39m ucl_staff_citedby\n\u001b[1;32m     10\u001b[0m \u001b[38;5;28;01mfor\u001b[39;00m name \u001b[38;5;129;01min\u001b[39;00m lse_names:\n",
      "Input \u001b[0;32mIn [12]\u001b[0m, in \u001b[0;36mget_num_citedby\u001b[0;34m(name)\u001b[0m\n\u001b[1;32m     36\u001b[0m     author \u001b[38;5;241m=\u001b[39m scholarly\u001b[38;5;241m.\u001b[39mfill(first_author_result)\n\u001b[1;32m     38\u001b[0m     \u001b[38;5;66;03m#get number of citedby\u001b[39;00m\n\u001b[0;32m---> 39\u001b[0m     num_cite \u001b[38;5;241m=\u001b[39m \u001b[43mfirst_author_result\u001b[49m\u001b[43m[\u001b[49m\u001b[38;5;124;43m'\u001b[39;49m\u001b[38;5;124;43mcitedby\u001b[39;49m\u001b[38;5;124;43m'\u001b[39;49m\u001b[43m]\u001b[49m\n\u001b[1;32m     40\u001b[0m     \u001b[38;5;28;01mreturn\u001b[39;00m num_cite\n\u001b[1;32m     42\u001b[0m \u001b[38;5;28;01mexcept\u001b[39;00m \u001b[38;5;167;01mStopIteration\u001b[39;00m:\n\u001b[1;32m     43\u001b[0m     \u001b[38;5;66;03m# If StopIteration is raised, return 0\u001b[39;00m\n",
      "\u001b[0;31mKeyError\u001b[0m: 'citedby'"
     ]
    }
   ],
   "source": [
    "ucl_citedby = {}\n",
    "lse_citedby = {}\n",
    "ox_citedby = {}\n",
    "cam_citedby = {}\n",
    "\n",
    "for name in ucl_names:\n",
    "    ucl_staff_citedby = get_num_citedby(name)\n",
    "    ucl_citedby[name] = ucl_staff_citedby\n",
    "\n",
    "for name in lse_names:\n",
    "    lse_staff_citedby = get_num_citedby(name)\n",
    "    lse_citedby[name] = lse_staff_citedby\n",
    "\n",
    "for name in ox_names:\n",
    "    ox_staff_citedby = get_publication_num(name)\n",
    "    ox_citedby[name] = ox_staff_citedby\n",
    "\n",
    "for name in cam_names:\n",
    "    cam_staff_citedby= get_publication_num(name)\n",
    "    cam_citedby[name] = ox_staff_citedby"
   ]
  },
  {
   "cell_type": "code",
   "execution_count": null,
   "id": "f57f0533",
   "metadata": {},
   "outputs": [],
   "source": [
    "get_num_citedby('Richard Blundell')"
   ]
  },
  {
   "cell_type": "code",
   "execution_count": null,
   "id": "32db9a9d",
   "metadata": {},
   "outputs": [],
   "source": [
    "lse_pub"
   ]
  },
  {
   "cell_type": "code",
   "execution_count": null,
   "id": "71884eca",
   "metadata": {},
   "outputs": [],
   "source": [
    "ox_pub"
   ]
  },
  {
   "cell_type": "code",
   "execution_count": null,
   "id": "597ff61a",
   "metadata": {},
   "outputs": [],
   "source": [
    "cam_pub"
   ]
  },
  {
   "cell_type": "code",
   "execution_count": null,
   "id": "e42b6730",
   "metadata": {},
   "outputs": [],
   "source": []
  }
 ],
 "metadata": {
  "kernelspec": {
   "display_name": "Python 3 (ipykernel)",
   "language": "python",
   "name": "python3"
  },
  "language_info": {
   "codemirror_mode": {
    "name": "ipython",
    "version": 3
   },
   "file_extension": ".py",
   "mimetype": "text/x-python",
   "name": "python",
   "nbconvert_exporter": "python",
   "pygments_lexer": "ipython3",
   "version": "3.9.12"
  }
 },
 "nbformat": 4,
 "nbformat_minor": 5
}
