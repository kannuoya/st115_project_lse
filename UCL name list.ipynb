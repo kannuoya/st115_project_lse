{
 "cells": [
  {
   "cell_type": "code",
   "execution_count": 1,
   "id": "237fffae",
   "metadata": {},
   "outputs": [],
   "source": [
    "from bs4 import BeautifulSoup \n",
    "import requests\n",
    "\n",
    "ucl_url = 'https://www.ucl.ac.uk/economics/people/academic-and-teaching-staff'\n",
    "ucl_r = requests.get(ucl_url)\n",
    "ucl_soup = BeautifulSoup(ucl_r.content,'lxml')"
   ]
  },
  {
   "cell_type": "code",
   "execution_count": 2,
   "id": "8add95c5",
   "metadata": {
    "scrolled": true
   },
   "outputs": [
    {
     "data": {
      "text/plain": [
       "['Antonio Guarino',\n",
       " 'Beatriz Armendariz',\n",
       " 'Mark Armstrong',\n",
       " 'Orazio Attanasio',\n",
       " 'Saleem Bahaj',\n",
       " 'Richard Blundell',\n",
       " 'Kirill Borusyak',\n",
       " 'Wendy Carlin',\n",
       " 'Pedro Carneiro',\n",
       " 'Parama Chaudhury',\n",
       " 'Andrew Chesher',\n",
       " 'Timothy Christensen',\n",
       " 'Gabriella Conti',\n",
       " 'Martin Cripps',\n",
       " 'Wei Cui',\n",
       " 'Silvia Dal Bianco',\n",
       " 'Ben Deaner',\n",
       " 'Aureo De Paula',\n",
       " 'Christian Dustmann',\n",
       " 'Raffaella Giacomini',\n",
       " 'DuarteGoncalves',\n",
       " 'Hugh Goodacre',\n",
       " 'Alex Gorbenko',\n",
       " 'JoaoGranja',\n",
       " 'Rodrigo Guimaraes',\n",
       " 'Stephen Hansen',\n",
       " 'Jonas Hjort',\n",
       " 'Steffen Huck',\n",
       " 'Philippe Jehiel',\n",
       " 'Deniz Kattwinkel',\n",
       " 'Toru Kitagawa',\n",
       " 'Terri Kneeland',\n",
       " 'Dennis Kristensen',\n",
       " 'Hyejin Ku',\n",
       " 'Guy Laroque',\n",
       " 'Valerie Lechene',\n",
       " 'Daniel Lewis',\n",
       " 'Dunli Li',\n",
       " 'Attila Lindner',\n",
       " 'Ralph Luetticke',\n",
       " 'Frederic Malherbe',\n",
       " 'Kalina Manova',\n",
       " 'Ramin Nassehi',\n",
       " 'Lars Nesheim',\n",
       " 'Alan Olivi',\n",
       " 'Duygu Ozdemir ',\n",
       " 'Malcolm Pemberton',\n",
       " 'Suphanit Piyapromdee',\n",
       " 'Franck Portier',\n",
       " 'Peter Postl',\n",
       " 'Fabien Postel-Vinay',\n",
       " 'Ian Preston',\n",
       " 'Lukasz Rachel',\n",
       " 'Imran Rasul',\n",
       " 'Morten Ravn',\n",
       " 'Victor Rios-Rull',\n",
       " 'Nikita Roketskiy',\n",
       " 'Uta Schoenberg',\n",
       " 'Vasiliki Skreta',\n",
       " 'Stephen Smith',\n",
       " 'Ran Spiegler',\n",
       " 'Vincent Sterk',\n",
       " 'Michael Thaler',\n",
       " 'Michela Tincani',\n",
       " 'Marcos Vera Hernandez',\n",
       " 'Daniel Wilhelm',\n",
       " 'Frank Witte',\n",
       " 'Ming Yang',\n",
       " 'Ji Hee Yoon',\n",
       " 'Andrei Zeleneev']"
      ]
     },
     "execution_count": 2,
     "metadata": {},
     "output_type": "execute_result"
    }
   ],
   "source": [
    "ucl_names = []\n",
    "for tab in ucl_soup.find_all('article'):\n",
    "    for section in tab.find_all('section', {'class': 'middle-split__column1'}):\n",
    "        for h4 in section.find('h4'):\n",
    "            count = 0\n",
    "            h4 = (h4.text).replace('\\xa0','')\n",
    "            if h4 == '':\n",
    "                break\n",
    "            else:\n",
    "                ucl_names.append(h4)\n",
    "ucl_names"
   ]
  },
  {
   "cell_type": "code",
   "execution_count": 10,
   "id": "11c60d52",
   "metadata": {},
   "outputs": [],
   "source": [
    "ox_names = ['Alison Andrew', 'Maximilian Ahrens', 'Johannes Abeler', 'Abi Adams-Prassl', \n",
    "            'Muhammad Farid Ahmed', 'Elizabeth Baldwin', 'Miguel Ballester', 'Alan Beggs', \n",
    "            'Vanessa Berenguer Rico', 'Andrea Bernini', 'Mattia Bertazzini', 'Steve Bond', \n",
    "            'Christopher Bowdler', 'Stephen Broadberry', 'Andrea Chiavari', 'Giulia Caprini', \n",
    "            'Jean-Paul Carvalho', 'Eric Chaney', 'Sarah Clifford', 'Paola Conconi', 'Simon Cowan',\n",
    "            'Ian Crawford', Sergio De Ferra, Stefan Dercon\n",
    "'Francis Ditraglia', 'Artur Doshchyn', 'James Duffy', 'Dennis Egger', 'Martin Ellison',\n",
    "'Peter Eso', 'Andrea Ferrero', 'Douglas Gollin', 'Ayden Higgins', 'Sanjay Jain',\n",
    "'Katharina Janezic', 'Beata Javorcik', 'Ian Jewitt', 'Maximilian Kasy', 'Paul Klemperer',\n",
    "'Anders Kock', 'Alexandre Kohlhas', 'Nathan Lane', 'Hamish Low', 'Viktor Marinkov',\n",
    "'Sophocles Mavroeidis', 'Michael McMahon', 'Romuald Méango', 'Rajssa Mechelli',\n",
    "'Margaret Meyer', 'Niclas Moneke', 'Inès Moreno De Barreda', 'Bent Nielsen',\n",
    "'Paula Onuchic', 'Banu Demir Pakel', 'Alexei Parakhonyak', 'Andrea Pasqualini',\n",
    "'Barbara Petrongolo', 'Daniel Quigley', 'Simon Quinn', 'Federica Romei', 'Lidia Smitkova',\n",
    "'Petr Sedlacek', 'Kevin Sheppard', 'Ludvig Sinander', 'Howard Smith', 'Alex Teytelboym',\n",
    "'Séverine Toussaert', 'Rick Van Der Ploeg', 'John Vickers', 'Martin Weidner', 'Francesco Zanetti']\n",
    "            \n"
   ]
  },
  {
   "cell_type": "code",
   "execution_count": 11,
   "id": "cad6b071",
   "metadata": {},
   "outputs": [
    {
     "data": {
      "text/plain": [
       "55"
      ]
     },
     "execution_count": 11,
     "metadata": {},
     "output_type": "execute_result"
    }
   ],
   "source": [
    "len(ox_names)"
   ]
  },
  {
   "cell_type": "code",
   "execution_count": null,
   "id": "f77f9056",
   "metadata": {},
   "outputs": [],
   "source": []
  }
 ],
 "metadata": {
  "kernelspec": {
   "display_name": "Python 3 (ipykernel)",
   "language": "python",
   "name": "python3"
  },
  "language_info": {
   "codemirror_mode": {
    "name": "ipython",
    "version": 3
   },
   "file_extension": ".py",
   "mimetype": "text/x-python",
   "name": "python",
   "nbconvert_exporter": "python",
   "pygments_lexer": "ipython3",
   "version": "3.9.12"
  }
 },
 "nbformat": 4,
 "nbformat_minor": 5
}
