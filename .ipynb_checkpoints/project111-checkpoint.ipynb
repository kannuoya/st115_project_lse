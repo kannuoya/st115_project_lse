{
 "cells": [
  {
   "cell_type": "code",
   "execution_count": 1,
   "id": "e821c5d8",
   "metadata": {
    "scrolled": false
   },
   "outputs": [],
   "source": [
    "import requests\n",
    "from bs4 import BeautifulSoup\n",
    "import pandas as pd\n",
    "import json"
   ]
  },
  {
   "cell_type": "code",
   "execution_count": 6,
   "id": "a97adc20",
   "metadata": {},
   "outputs": [],
   "source": [
    "# list of names of department of economics faulty staff from London School of Economics and Political Science\n",
    "\n",
    "# Send a request to the URL of the web page\n",
    "page = requests.get(\"https://www.lse.ac.uk/economics/people/faculty\")\n",
    "\n",
    "# Create a BeautifulSoup object from the page content\n",
    "lse_soup = BeautifulSoup(page.content, 'html.parser')\n",
    "lse_divs = lse_soup.select('html > body > form > div:nth-of-type(3) > div > div:nth-of-type(2) > div > div')\n",
    "lse_num_of_staff = len(lse_divs) + 1\n",
    "lse_names = []\n",
    "\n",
    "for n in range(1,lse_num_of_staff):\n",
    "    lse_staff = lse_soup.select_one(f'html > body > form > div:nth-of-type(3) > div > div:nth-of-type(2) > div > div:nth-of-type({n}) > div:nth-of-type(2) > p > a')\n",
    "    lse_staff_detail = lse_staff.text\n",
    "    # Split the string into two parts at the first occurrence of \"/\"\n",
    "    parts = lse_staff_detail.split('/', 1)\n",
    "    # Get the first part of the resulting list for the full name\n",
    "    substring = parts[0]\n",
    "    lse_names.append(substring)"
   ]
  },
  {
   "cell_type": "code",
   "execution_count": 3,
   "id": "4dd6b83b",
   "metadata": {
    "scrolled": false
   },
   "outputs": [],
   "source": [
    "# list of names of department of economics faulty staff from University College of London\n",
    "\n",
    "ucl_url = 'https://www.ucl.ac.uk/economics/people/academic-and-teaching-staff'\n",
    "ucl_r = requests.get(ucl_url)\n",
    "ucl_soup = BeautifulSoup(ucl_r.content,'lxml')\n",
    "ucl_names = []\n",
    "for tab in ucl_soup.find_all('article'):\n",
    "    for section in tab.find_all('section', {'class': 'middle-split__column1'}):\n",
    "        for h4 in section.find('h4'):\n",
    "            # clean the name\n",
    "            h4 = (h4.text).replace('\\xa0','')\n",
    "            if h4 == '':\n",
    "                break\n",
    "            else:\n",
    "                ucl_names.append(h4)"
   ]
  },
  {
   "cell_type": "code",
   "execution_count": 14,
   "id": "4f91d59f",
   "metadata": {
    "scrolled": false
   },
   "outputs": [],
   "source": [
    "# list of names of department of economics faulty staff from University of Cambridge\n",
    "\n",
    "cam_url = 'https://www.econ.cam.ac.uk/people/academic-staff-atoe'\n",
    "cam_r = requests.get(cam_url)\n",
    "cam_soup = BeautifulSoup(cam_r.content, 'lxml')\n",
    "cam_names = []\n",
    "for i in range(0, len(cam_soup.find_all('strong')), 2):\n",
    "    cam_name = cam_soup.find_all('strong')[i].text\n",
    "    cam_names.append(cam_name)"
   ]
  },
  {
   "cell_type": "code",
   "execution_count": 8,
   "id": "84682a25",
   "metadata": {},
   "outputs": [],
   "source": [
    "# list of names of department of economics faulty staff from University of Oxford\n",
    "ox_names = ['Alison Andrew', 'Maximilian Ahrens', 'Johannes Abeler', 'Abi Adams-Prassl', \n",
    "            'Muhammad Farid Ahmed', 'Elizabeth Baldwin', 'Miguel Ballester', 'Alan Beggs', \n",
    "            'Vanessa Berenguer Rico', 'Andrea Bernini', 'Mattia Bertazzini', 'Steve Bond', \n",
    "            'Christopher Bowdler', 'Stephen Broadberry', 'Andrea Chiavari', 'Giulia Caprini', \n",
    "            'Jean-Paul Carvalho', 'Eric Chaney', 'Sarah Clifford', 'Paola Conconi', 'Simon Cowan',\n",
    "            'Ian Crawford', 'Sergio De Ferra', 'Stefan Dercon', 'Francis Ditraglia', \n",
    "            'Artur Doshchyn', 'James Duffy', 'Dennis Egger', 'Martin Ellison', 'Peter Eso', \n",
    "            'Andrea Ferrero', 'Douglas Gollin', 'Ayden Higgins', 'Sanjay Jain',\n",
    "            'Katharina Janezic', 'Beata Javorcik', 'Ian Jewitt', 'Maximilian Kasy', 'Paul Klemperer',\n",
    "            'Anders Kock', 'Alexandre Kohlhas', 'Nathan Lane', 'Hamish Low', 'Viktor Marinkov',\n",
    "            'Sophocles Mavroeidis', 'Michael McMahon', 'Romuald Méango', 'Rajssa Mechelli',\n",
    "            'Margaret Meyer', 'Niclas Moneke', 'Inès Moreno De Barreda', 'Bent Nielsen','Paula Onuchic', \n",
    "            'Banu Demir Pakel', 'Alexei Parakhonyak', 'Andrea Pasqualini','Barbara Petrongolo',\n",
    "            'Daniel Quigley', 'Simon Quinn', 'Federica Romei', 'Lidia Smitkova','Petr Sedlacek', \n",
    "            'Kevin Sheppard', 'Ludvig Sinander', 'Howard Smith', 'Alex Teytelboym',\n",
    "            'Séverine Toussaert', 'Rick Van Der Ploeg', 'John Vickers', 'Martin Weidner', 'Francesco Zanetti']"
   ]
  },
  {
   "cell_type": "code",
   "execution_count": 17,
   "id": "c68f867e",
   "metadata": {},
   "outputs": [
    {
     "name": "stdout",
     "output_type": "stream",
     "text": [
      "['Philippe Aghion', 'Nava Ashraf', 'Oriana Bandiera', 'Charles Bean', 'Tim Besley', 'Mohan Bijapur', 'Gharad Bryan', 'Robin Burgess', 'Michael Callen', 'Francesco Caselli', 'Frank Cowell', 'Wouter Den Haan', 'Maarten De Ridder', 'Swati Dhingra', 'Jeremiah Dittmar', 'Matthias Doepke', 'Andrew Ellis', 'Alessandro Gavazza', 'Maitreesh Ghatak', 'Michael Gmeiner', 'Vassilis Hajivassiliou', 'Jonathon Hazell', 'Javier Hidalgo', 'Ethan Ilzetzki', 'Xavier Jaravel', 'Keyu Jin', 'Tatiana Komarova', 'Katarzyna Krajniewska', 'Camille Landais', 'Jonathan Leape', 'Gilat Levy', 'Matthew Levy', 'Stephen Machin', 'Isabela Manelici', 'Alan Manning', 'Rachael Meager', 'Antonio Mele', 'Guy Michaels', 'Benjamin Moll', 'John Moore', 'Dmitry Mukhin', 'Francesco Nava', 'Rachel Ngai', 'Junius Olivier', 'Taisuke Otsu', 'Martin Pesendorfer', 'Dimitra Petropoulou', 'Michele Piccione', 'Steve Pischke', 'Christopher Pissarides', 'Ronny Razin', 'Daniel Reck', 'Ricardo Reis', 'Nico Rosetti', 'Jane Olmstead-Rumsey', 'Thomas Sampson', 'Christopher Sandmann', 'Marcia Schafgans', 'Mark Schankerman', 'Pasquale Schiraldi', 'Judith Shapiro', 'Kevin Sheedy', 'Kate Smith', 'Johannes Spinnewijn', 'Lord Nicholas Stern', 'Daniel Sturm', 'John Sutton', 'Balazs Szentes', 'Silvana Tenreyro', 'John Van Reenen', 'Yike Wang', 'Alwyn Young', 'Shengxing Zhang']\n",
      "-----------------------------------------------------------------\n",
      "['Antonio Guarino', 'Beatriz Armendariz', 'Mark Armstrong', 'Orazio Attanasio', 'Saleem Bahaj', 'Richard Blundell', 'Kirill Borusyak', 'Wendy Carlin', 'Pedro Carneiro', 'Parama Chaudhury', 'Andrew Chesher', 'Timothy Christensen', 'Gabriella Conti', 'Martin Cripps', 'Wei Cui', 'Silvia Dal Bianco', 'Ben Deaner', 'Aureo De Paula', 'Christian Dustmann', 'Raffaella Giacomini', 'DuarteGoncalves', 'Hugh Goodacre', 'Alex Gorbenko', 'JoaoGranja', 'Rodrigo Guimaraes', 'Stephen Hansen', 'Jonas Hjort', 'Steffen Huck', 'Philippe Jehiel', 'Deniz Kattwinkel', 'Toru Kitagawa', 'Terri Kneeland', 'Dennis Kristensen', 'Hyejin Ku', 'Guy Laroque', 'Valerie Lechene', 'Daniel Lewis', 'Dunli Li', 'Attila Lindner', 'Ralph Luetticke', 'Frederic Malherbe', 'Kalina Manova', 'Ramin Nassehi', 'Lars Nesheim', 'Alan Olivi', 'Duygu Ozdemir', 'Malcolm Pemberton', 'Suphanit Piyapromdee', 'Franck Portier', 'Peter Postl', 'Fabien Postel-Vinay', 'Ian Preston', 'Lukasz Rachel', 'Imran Rasul', 'Morten Ravn', 'Victor Rios-Rull', 'Nikita Roketskiy', 'Uta Schoenberg', 'Vasiliki Skreta', 'Stephen Smith', 'Ran Spiegler', 'Vincent Sterk', 'Michael Thaler', 'Michela Tincani', 'Marcos Vera Hernandez', 'Daniel Wilhelm', 'Frank Witte', 'Ming Yang', 'Ji Hee Yoon', 'Andrei Zeleneev']\n",
      "-----------------------------------------------------------------\n",
      "['Toke Aidt', 'Carolina Alves', 'Noriko Amano-Patiño', 'Michael Ashby', 'Seda Basihos', 'Victoria Bateman', 'Max Beber', 'Francisco Beltran', 'Debopam Bhattacharya', 'Florin Bilbiie', 'Juan Block', 'Peter Bossaerts', 'Paul Bouscasse', 'Charles Brendon', 'Ivano Cardinale', 'Vasco Carvalho', 'Daniele Cassese', 'Tiago Cavalcanti', 'George Charlson', 'Monojit Chatterji', 'Yujiang River Chen', 'Chuan-Han Cheng', 'Tony Cockerill', 'Collin Constantine', 'Giancarlo Corsetti', 'Ken Coutts', 'Meredith Crowley', 'Partha Dasgupta', 'Jeremy Edwards', 'Matthew Elliott', 'Aytek Erdil', 'Robert Evans']\n",
      "-----------------------------------------------------------------\n",
      "['Alison Andrew', 'Maximilian Ahrens', 'Johannes Abeler', 'Abi Adams-Prassl', 'Muhammad Farid Ahmed', 'Elizabeth Baldwin', 'Miguel Ballester', 'Alan Beggs', 'Vanessa Berenguer Rico', 'Andrea Bernini', 'Mattia Bertazzini', 'Steve Bond', 'Christopher Bowdler', 'Stephen Broadberry', 'Andrea Chiavari', 'Giulia Caprini', 'Jean-Paul Carvalho', 'Eric Chaney', 'Sarah Clifford', 'Paola Conconi', 'Simon Cowan', 'Ian Crawford', 'Sergio De Ferra', 'Stefan Dercon', 'Francis Ditraglia', 'Artur Doshchyn', 'James Duffy', 'Dennis Egger', 'Martin Ellison', 'Peter Eso', 'Andrea Ferrero', 'Douglas Gollin', 'Ayden Higgins', 'Sanjay Jain', 'Katharina Janezic', 'Beata Javorcik', 'Ian Jewitt', 'Maximilian Kasy', 'Paul Klemperer', 'Anders Kock', 'Alexandre Kohlhas', 'Nathan Lane', 'Hamish Low', 'Viktor Marinkov', 'Sophocles Mavroeidis', 'Michael McMahon', 'Romuald Méango', 'Rajssa Mechelli', 'Margaret Meyer', 'Niclas Moneke', 'Inès Moreno De Barreda', 'Bent Nielsen', 'Paula Onuchic', 'Banu Demir Pakel', 'Alexei Parakhonyak', 'Andrea Pasqualini', 'Barbara Petrongolo', 'Daniel Quigley', 'Simon Quinn', 'Federica Romei', 'Lidia Smitkova', 'Petr Sedlacek', 'Kevin Sheppard', 'Ludvig Sinander', 'Howard Smith', 'Alex Teytelboym', 'Séverine Toussaert', 'Rick Van Der Ploeg', 'John Vickers', 'Martin Weidner', 'Francesco Zanetti']\n"
     ]
    }
   ],
   "source": [
    "# to reformat the name without address and whitespace\n",
    "\n",
    "def reform_name(name):\n",
    "    name_after = ''\n",
    "    for word in name.split():\n",
    "        if word != 'Dr' and word != 'Professor' and word != 'Sir' and word != 'Prof':\n",
    "            name_after += (word+' ')\n",
    "    return name_after.strip()\n",
    "\n",
    "lse_names = list(map(lambda x: reform_name(x), lse_names))\n",
    "ucl_names = list(map(lambda x: reform_name(x), ucl_names))\n",
    "cam_names = list(map(lambda x: reform_name(x), cam_names))\n",
    "ox_names = list(map(lambda x: reform_name(x), ox_names))\n",
    "\n",
    "print(lse_names)\n",
    "print('-----------------------------------------------------------------')\n",
    "print(ucl_names)\n",
    "print('-----------------------------------------------------------------')\n",
    "print(cam_names)\n",
    "print('-----------------------------------------------------------------')\n",
    "print(ox_names)"
   ]
  },
  {
   "cell_type": "code",
   "execution_count": 19,
   "id": "e466e66a",
   "metadata": {
    "scrolled": true
   },
   "outputs": [
    {
     "name": "stdout",
     "output_type": "stream",
     "text": [
      "API key is valid!\n"
     ]
    }
   ],
   "source": [
    "#import api: springer nature\n",
    "\n",
    "with open('keys.json') as f:\n",
    "    keys = json.load(f)\n",
    "api_key = keys['spring']['api_key']\n",
    "\n",
    "url = 'https://api.springernature.com'\n",
    "params = {'name': 'Philippe Aghion', 'api_key': api_key}\n",
    "response = requests.get(url,params = params)\n",
    "\n",
    "if response.status_code == 200:\n",
    "    print(\"API key is valid!\")\n",
    "else:\n",
    "    print(\"API key is not valid.\")\n"
   ]
  },
  {
   "cell_type": "code",
   "execution_count": null,
   "id": "facd41c6",
   "metadata": {
    "scrolled": true
   },
   "outputs": [],
   "source": [
    "dict_co_creator_name={}\n",
    "dict_num_paper={}\n",
    "for name in names:\n",
    "    list_name = delete_address(name)\n",
    "    list_name = list_name.split(' ')\n",
    "    first_name = list_name[0]\n",
    "    surname = list_name[1]\n",
    "    reformat_name = surname + ', '+ first_name\n",
    "    url=f'https://api.springernature.com/metadata/json?api_key={api_key}&q=name%3A%22{surname}%2C%20{first_name}%22%2C%20subject%3AEconomics&s=1&p=10'\n",
    "    r = requests.get(url)\n",
    "    search_result = json.loads(r.text)\n",
    "    dict_co_creator_name[name] = []\n",
    "    for i in range (len(search_result['records'])):\n",
    "        creators = search_result['records'][i]['creators']\n",
    "        for creator in creators:\n",
    "            co_creator = creator['creator']\n",
    "            if co_creator != reformat_name:\n",
    "                list_name = co_creator.split(',')\n",
    "                first_name = list_name[1][1:]\n",
    "                surname = list_name[0]\n",
    "                format_name = first_name+' '+surname\n",
    "                if format_name not in dict_co_creator_name[name]:\n",
    "                    dict_co_creator_name[name].append(format_name)\n",
    "    \n",
    "    dict_num_paper[name]=0\n",
    "    years = search_result[\"facets\"][3]['values']\n",
    "    total_num_papers = 0\n",
    "    for year in years:\n",
    "        dict_num_paper[name] += int(year['count'])\n",
    "print(dict_co_creator_name)\n",
    "print(dict_num_paper)"
   ]
  },
  {
   "cell_type": "code",
   "execution_count": null,
   "id": "8ac0deea",
   "metadata": {},
   "outputs": [],
   "source": []
  }
 ],
 "metadata": {
  "kernelspec": {
   "display_name": "Python 3 (ipykernel)",
   "language": "python",
   "name": "python3"
  },
  "language_info": {
   "codemirror_mode": {
    "name": "ipython",
    "version": 3
   },
   "file_extension": ".py",
   "mimetype": "text/x-python",
   "name": "python",
   "nbconvert_exporter": "python",
   "pygments_lexer": "ipython3",
   "version": "3.9.12"
  }
 },
 "nbformat": 4,
 "nbformat_minor": 5
}
