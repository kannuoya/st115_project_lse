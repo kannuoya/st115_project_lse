{
 "cells": [
  {
   "cell_type": "code",
   "execution_count": 76,
   "id": "08e5a06c",
   "metadata": {},
   "outputs": [],
   "source": [
    "from bs4 import BeautifulSoup \n",
    "import requests\n",
    "\n",
    "ucl_url = 'https://www.ucl.ac.uk/economics/people/academic-and-teaching-staff'\n",
    "ucl_r = requests.get(ucl_url)\n",
    "ucl_soup = BeautifulSoup(ucl_r.content,'lxml')"
   ]
  },
  {
   "cell_type": "code",
   "execution_count": 77,
   "id": "b7d0be16",
   "metadata": {},
   "outputs": [
    {
     "data": {
      "text/plain": [
       "['Antonio Guarino',\n",
       " 'Beatriz Armendariz',\n",
       " 'Mark Armstrong',\n",
       " 'Orazio Attanasio',\n",
       " 'Saleem Bahaj',\n",
       " 'Richard Blundell',\n",
       " 'Kirill Borusyak',\n",
       " 'Wendy Carlin',\n",
       " 'Pedro Carneiro',\n",
       " 'Parama Chaudhury',\n",
       " 'Andrew Chesher',\n",
       " 'Timothy Christensen',\n",
       " 'Gabriella Conti',\n",
       " 'Martin Cripps',\n",
       " 'Wei Cui',\n",
       " 'Silvia Dal Bianco',\n",
       " 'Ben Deaner',\n",
       " 'Aureo De Paula',\n",
       " 'Christian Dustmann',\n",
       " 'Raffaella Giacomini',\n",
       " 'DuarteGoncalves',\n",
       " 'Hugh Goodacre',\n",
       " 'Alex Gorbenko',\n",
       " 'JoaoGranja',\n",
       " 'Rodrigo Guimaraes',\n",
       " 'Stephen Hansen',\n",
       " 'Jonas Hjort',\n",
       " 'Steffen Huck',\n",
       " 'Philippe Jehiel',\n",
       " 'Deniz Kattwinkel',\n",
       " 'Toru Kitagawa',\n",
       " 'Terri Kneeland',\n",
       " 'Dennis Kristensen',\n",
       " 'Hyejin Ku',\n",
       " 'Guy Laroque',\n",
       " 'Valerie Lechene',\n",
       " 'Daniel Lewis',\n",
       " 'Dunli Li',\n",
       " 'Attila Lindner',\n",
       " 'Ralph Luetticke',\n",
       " 'Frederic Malherbe',\n",
       " 'Kalina Manova',\n",
       " 'Ramin Nassehi',\n",
       " 'Lars Nesheim',\n",
       " 'Alan Olivi',\n",
       " 'Duygu Ozdemir ',\n",
       " 'Malcolm Pemberton',\n",
       " 'Suphanit Piyapromdee',\n",
       " 'Franck Portier',\n",
       " 'Peter Postl',\n",
       " 'Fabien Postel-Vinay',\n",
       " 'Ian Preston',\n",
       " 'Lukasz Rachel',\n",
       " 'Imran Rasul',\n",
       " 'Morten Ravn',\n",
       " 'Victor Rios-Rull',\n",
       " 'Nikita Roketskiy',\n",
       " 'Uta Schoenberg',\n",
       " 'Vasiliki Skreta',\n",
       " 'Stephen Smith',\n",
       " 'Ran Spiegler',\n",
       " 'Vincent Sterk',\n",
       " 'Michael Thaler',\n",
       " 'Michela Tincani',\n",
       " 'Marcos Vera Hernandez',\n",
       " 'Daniel Wilhelm',\n",
       " 'Frank Witte',\n",
       " 'Ming Yang',\n",
       " 'Ji Hee Yoon',\n",
       " 'Andrei Zeleneev']"
      ]
     },
     "execution_count": 77,
     "metadata": {},
     "output_type": "execute_result"
    }
   ],
   "source": [
    "ucl_names = []\n",
    "for tab in ucl_soup.find_all('article'):\n",
    "    for section in tab.find_all('section', {'class': 'middle-split__column1'}):\n",
    "        for h4 in section.find('h4'):\n",
    "            count = 0\n",
    "            h4 = (h4.text).replace('\\xa0','')\n",
    "            if h4 == '':\n",
    "                break\n",
    "            else:\n",
    "                ucl_names.append(h4)\n",
    "ucl_names"
   ]
  },
  {
   "cell_type": "code",
   "execution_count": null,
   "id": "44669592",
   "metadata": {},
   "outputs": [],
   "source": [
    "num_of_staff = len(divs) + 1\n",
    "names = []\n",
    "for n in range(1,num_of_staff):\n",
    "    staff = soup.select_one(f'html > body > form > div:nth-of-type(3) > div > div:nth-of-type(2) > div > div:nth-of-type({n}) > div:nth-of-type(2) > p > a')\n",
    "    staff_detail = staff.text\n",
    "# Split the string into two parts at the first occurrence of \"/\"\n",
    "    parts = staff_detail.split('/', 1)\n",
    "# Get the first part of the resulting list for the full name\n",
    "    substring = parts[0]\n",
    "    names.append(substring)\n",
    "    \n",
    "names\n"
   ]
  }
 ],
 "metadata": {
  "kernelspec": {
   "display_name": "Python 3 (ipykernel)",
   "language": "python",
   "name": "python3"
  },
  "language_info": {
   "codemirror_mode": {
    "name": "ipython",
    "version": 3
   },
   "file_extension": ".py",
   "mimetype": "text/x-python",
   "name": "python",
   "nbconvert_exporter": "python",
   "pygments_lexer": "ipython3",
   "version": "3.9.12"
  }
 },
 "nbformat": 4,
 "nbformat_minor": 5
}
