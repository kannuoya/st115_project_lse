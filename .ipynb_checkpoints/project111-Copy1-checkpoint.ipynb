{
 "cells": [
  {
   "cell_type": "markdown",
   "id": "0951762b",
   "metadata": {},
   "source": [
    "# Analysis on LSE, UCL, and Oxbridge Economics Department Faculty Staff Academic Contribution"
   ]
  },
  {
   "cell_type": "markdown",
   "id": "243216c9",
   "metadata": {},
   "source": [
    "<h1>Table of Contents<span class=\"tocSkip\"></span></h1>\n",
    "<div class=\"toc\"><ul class=\"toc-item\"><li><span><a href=\"#Analysis-on-Tweets-concerning-Malaysia's-Budget-2021\" data-toc-modified-id=\"Analysis-on-Tweets-concerning-Malaysia's-Budget-2021-1\"><span class=\"toc-item-num\">1&nbsp;&nbsp;</span>Analysis on Tweets concerning Malaysia's Budget 2021</a></span></li><li><span><a href=\"#Introduction-and-Data-Description\" data-toc-modified-id=\"Introduction-and-Data-Description-2\"><span class=\"toc-item-num\">2&nbsp;&nbsp;</span>Introduction and Data Description</a></span><ul class=\"toc-item\"><li><ul class=\"toc-item\"><li><span><a href=\"#Malaysia's-Budget-2021\" data-toc-modified-id=\"Malaysia's-Budget-2021-2.0.1\"><span class=\"toc-item-num\">2.0.1&nbsp;&nbsp;</span>Malaysia's Budget 2021</a></span></li><li><span><a href=\"#Data-Description\" data-toc-modified-id=\"Data-Description-2.0.2\"><span class=\"toc-item-num\">2.0.2&nbsp;&nbsp;</span>Data Description</a></span></li></ul></li></ul></li><li><span><a href=\"#Research-Questions\" data-toc-modified-id=\"Research-Questions-3\"><span class=\"toc-item-num\">3&nbsp;&nbsp;</span>Research Questions</a></span></li><li><span><a href=\"#Data-Acquisition\" data-toc-modified-id=\"Data-Acquisition-4\"><span class=\"toc-item-num\">4&nbsp;&nbsp;</span>Data Acquisition</a></span><ul class=\"toc-item\"><li><ul class=\"toc-item\"><li><span><a href=\"#Google-Trends-Data\" data-toc-modified-id=\"Google-Trends-Data-4.0.1\"><span class=\"toc-item-num\">4.0.1&nbsp;&nbsp;</span>Google Trends Data</a></span></li><li><span><a href=\"#Tweets-from-Twitter\" data-toc-modified-id=\"Tweets-from-Twitter-4.0.2\"><span class=\"toc-item-num\">4.0.2&nbsp;&nbsp;</span>Tweets from Twitter</a></span></li><li><span><a href=\"#Malaysia's-news-media-companies-and-their-respective-Twitter-accounts\" data-toc-modified-id=\"Malaysia's-news-media-companies-and-their-respective-Twitter-accounts-4.0.3\"><span class=\"toc-item-num\">4.0.3&nbsp;&nbsp;</span>Malaysia's news media companies and their respective Twitter accounts</a></span></li><li><span><a href=\"#Malaysia's-Budget-Speech-2021-by-the-Prime-Minister-and-the-Minister-of-Finance-of-Malaysia\" data-toc-modified-id=\"Malaysia's-Budget-Speech-2021-by-the-Prime-Minister-and-the-Minister-of-Finance-of-Malaysia-4.0.4\"><span class=\"toc-item-num\">4.0.4&nbsp;&nbsp;</span>Malaysia's Budget Speech 2021 by the Prime Minister and the Minister of Finance of Malaysia</a></span></li></ul></li></ul></li><li><span><a href=\"#Data-Cleaning\" data-toc-modified-id=\"Data-Cleaning-5\"><span class=\"toc-item-num\">5&nbsp;&nbsp;</span>Data Cleaning</a></span><ul class=\"toc-item\"><li><ul class=\"toc-item\"><li><span><a href=\"#Missing-Data\" data-toc-modified-id=\"Missing-Data-5.0.1\"><span class=\"toc-item-num\">5.0.1&nbsp;&nbsp;</span>Missing Data</a></span></li></ul></li></ul></li><li><span><a href=\"#Data-Analysis\" data-toc-modified-id=\"Data-Analysis-6\"><span class=\"toc-item-num\">6&nbsp;&nbsp;</span>Data Analysis</a></span><ul class=\"toc-item\"><li><span><a href=\"#Exploratory-Data-Analysis-(EDA)\" data-toc-modified-id=\"Exploratory-Data-Analysis-(EDA)-6.1\"><span class=\"toc-item-num\">6.1&nbsp;&nbsp;</span>Exploratory Data Analysis (EDA)</a></span></li><li><span><a href=\"#Q1:-Is-public-sentiment-towards-the-budget-as-negative-as-portrayed-by-the-media?\" data-toc-modified-id=\"Q1:-Is-public-sentiment-towards-the-budget-as-negative-as-portrayed-by-the-media?-6.2\"><span class=\"toc-item-num\">6.2&nbsp;&nbsp;</span>Q1: Is public sentiment towards the budget as negative as portrayed by the media?</a></span><ul class=\"toc-item\"><li><span><a href=\"#Sentiment-Analysis-of-Tweets\" data-toc-modified-id=\"Sentiment-Analysis-of-Tweets-6.2.1\"><span class=\"toc-item-num\">6.2.1&nbsp;&nbsp;</span>Sentiment Analysis of Tweets</a></span></li></ul></li><li><span><a href=\"#Q2:-What-are-the-reason(s)-they-gave-to-justify-their-(dis)agreement-with-Budget-2021?-Are-these-reasons-aligned-with-the-focus-of-the-official-Budget-2021?\" data-toc-modified-id=\"Q2:-What-are-the-reason(s)-they-gave-to-justify-their-(dis)agreement-with-Budget-2021?-Are-these-reasons-aligned-with-the-focus-of-the-official-Budget-2021?-6.3\"><span class=\"toc-item-num\">6.3&nbsp;&nbsp;</span>Q2: What are the reason(s) they gave to justify their (dis)agreement with Budget 2021? Are these reasons aligned with the focus of the official Budget 2021?</a></span></li><li><span><a href=\"#Q3:-Did-the-media-coverage-of-Budget-2021-differ-by-news-media-companies-in-Malaysia?\" data-toc-modified-id=\"Q3:-Did-the-media-coverage-of-Budget-2021-differ-by-news-media-companies-in-Malaysia?-6.4\"><span class=\"toc-item-num\">6.4&nbsp;&nbsp;</span>Q3: Did the media coverage of Budget 2021 differ by news media companies in Malaysia?</a></span></li></ul></li><li><span><a href=\"#Conclusion\" data-toc-modified-id=\"Conclusion-7\"><span class=\"toc-item-num\">7&nbsp;&nbsp;</span>Conclusion</a></span><ul class=\"toc-item\"><li><ul class=\"toc-item\"><li><span><a href=\"#References\" data-toc-modified-id=\"References-7.0.1\"><span class=\"toc-item-num\">7.0.1&nbsp;&nbsp;</span>References</a></span></li></ul></li></ul></li></ul></div>"
   ]
  },
  {
   "cell_type": "code",
   "execution_count": 1,
   "id": "e821c5d8",
   "metadata": {
    "scrolled": false
   },
   "outputs": [],
   "source": [
    "import requests\n",
    "from bs4 import BeautifulSoup\n",
    "import pandas as pd\n",
    "import json"
   ]
  },
  {
   "cell_type": "code",
   "execution_count": 2,
   "id": "a97adc20",
   "metadata": {},
   "outputs": [],
   "source": [
    "# list of names of department of economics faulty staff from London School of Economics and Political Science\n",
    "\n",
    "# Send a request to the URL of the web page\n",
    "page = requests.get(\"https://www.lse.ac.uk/economics/people/faculty\")\n",
    "\n",
    "# Create a BeautifulSoup object from the page content\n",
    "lse_soup = BeautifulSoup(page.content, 'html.parser')\n",
    "lse_divs = lse_soup.select('html > body > form > div:nth-of-type(3) > div > div:nth-of-type(2) > div > div')\n",
    "lse_num_of_staff = len(lse_divs) + 1\n",
    "lse_names = []\n",
    "\n",
    "for n in range(1,lse_num_of_staff):\n",
    "    lse_staff = lse_soup.select_one(f'html > body > form > div:nth-of-type(3) > div > div:nth-of-type(2) > div > div:nth-of-type({n}) > div:nth-of-type(2) > p > a')\n",
    "    lse_staff_detail = lse_staff.text\n",
    "    # Split the string into two parts at the first occurrence of \"/\"\n",
    "    parts = lse_staff_detail.split('/', 1)\n",
    "    # Get the first part of the resulting list for the full name\n",
    "    substring = parts[0]\n",
    "    lse_names.append(substring)"
   ]
  },
  {
   "cell_type": "code",
   "execution_count": 3,
   "id": "4dd6b83b",
   "metadata": {
    "scrolled": false
   },
   "outputs": [],
   "source": [
    "# list of names of department of economics faulty staff from University College of London\n",
    "\n",
    "ucl_url = 'https://www.ucl.ac.uk/economics/people/academic-and-teaching-staff'\n",
    "ucl_r = requests.get(ucl_url)\n",
    "ucl_soup = BeautifulSoup(ucl_r.content,'lxml')\n",
    "ucl_names = []\n",
    "for tab in ucl_soup.find_all('article'):\n",
    "    for section in tab.find_all('section', {'class': 'middle-split__column1'}):\n",
    "        for h4 in section.find('h4'):\n",
    "            # clean the name\n",
    "            h4 = (h4.text).replace('\\xa0','')\n",
    "            if h4 == '':\n",
    "                break\n",
    "            else:\n",
    "                ucl_names.append(h4)"
   ]
  },
  {
   "cell_type": "code",
   "execution_count": 4,
   "id": "4f91d59f",
   "metadata": {
    "scrolled": false
   },
   "outputs": [],
   "source": [
    "# list of names of department of economics faulty staff from University of Cambridge\n",
    "\n",
    "cam_url = 'https://www.econ.cam.ac.uk/people/academic-staff-atoe'\n",
    "cam_r = requests.get(cam_url)\n",
    "cam_soup = BeautifulSoup(cam_r.content, 'lxml')\n",
    "cam_names = []\n",
    "for i in range(0, len(cam_soup.find_all('strong')), 2):\n",
    "    cam_name = cam_soup.find_all('strong')[i].text\n",
    "    cam_names.append(cam_name)"
   ]
  },
  {
   "cell_type": "code",
   "execution_count": 5,
   "id": "84682a25",
   "metadata": {},
   "outputs": [],
   "source": [
    "# list of names of department of economics faulty staff from University of Oxford\n",
    "ox_names = ['Alison Andrew', 'Maximilian Ahrens', 'Johannes Abeler', 'Abi Adams-Prassl', \n",
    "            'Muhammad Farid Ahmed', 'Elizabeth Baldwin', 'Miguel Ballester', 'Alan Beggs', \n",
    "            'Vanessa Berenguer Rico', 'Andrea Bernini', 'Mattia Bertazzini', 'Steve Bond', \n",
    "            'Christopher Bowdler', 'Stephen Broadberry', 'Andrea Chiavari', 'Giulia Caprini', \n",
    "            'Jean-Paul Carvalho', 'Eric Chaney', 'Sarah Clifford', 'Paola Conconi', 'Simon Cowan',\n",
    "            'Ian Crawford', 'Sergio De Ferra', 'Stefan Dercon', 'Francis Ditraglia', \n",
    "            'Artur Doshchyn', 'James Duffy', 'Dennis Egger', 'Martin Ellison', 'Peter Eso', \n",
    "            'Andrea Ferrero', 'Douglas Gollin', 'Ayden Higgins', 'Sanjay Jain',\n",
    "            'Katharina Janezic', 'Beata Javorcik', 'Ian Jewitt', 'Maximilian Kasy', 'Paul Klemperer',\n",
    "            'Anders Kock', 'Alexandre Kohlhas', 'Nathan Lane', 'Hamish Low', 'Viktor Marinkov',\n",
    "            'Sophocles Mavroeidis', 'Michael McMahon', 'Romuald Méango', 'Rajssa Mechelli',\n",
    "            'Margaret Meyer', 'Niclas Moneke', 'Inès Moreno De Barreda', 'Bent Nielsen','Paula Onuchic', \n",
    "            'Banu Demir Pakel', 'Alexei Parakhonyak', 'Andrea Pasqualini','Barbara Petrongolo',\n",
    "            'Daniel Quigley', 'Simon Quinn', 'Federica Romei', 'Lidia Smitkova','Petr Sedlacek', \n",
    "            'Kevin Sheppard', 'Ludvig Sinander', 'Howard Smith', 'Alex Teytelboym',\n",
    "            'Séverine Toussaert', 'Rick Van Der Ploeg', 'John Vickers', 'Martin Weidner', 'Francesco Zanetti']"
   ]
  },
  {
   "cell_type": "code",
   "execution_count": 6,
   "id": "c68f867e",
   "metadata": {},
   "outputs": [
    {
     "name": "stdout",
     "output_type": "stream",
     "text": [
      "['Philippe Aghion', 'Nava Ashraf', 'Oriana Bandiera', 'Charles Bean', 'Tim Besley', 'Mohan Bijapur', 'Gharad Bryan', 'Robin Burgess', 'Michael Callen', 'Francesco Caselli', 'Frank Cowell', 'Wouter Den Haan', 'Maarten De Ridder', 'Swati Dhingra', 'Jeremiah Dittmar', 'Matthias Doepke', 'Andrew Ellis', 'Alessandro Gavazza', 'Maitreesh Ghatak', 'Michael Gmeiner', 'Vassilis Hajivassiliou', 'Jonathon Hazell', 'Javier Hidalgo', 'Ethan Ilzetzki', 'Xavier Jaravel', 'Keyu Jin', 'Tatiana Komarova', 'Katarzyna Krajniewska', 'Camille Landais', 'Jonathan Leape', 'Gilat Levy', 'Matthew Levy', 'Stephen Machin', 'Isabela Manelici', 'Alan Manning', 'Rachael Meager', 'Antonio Mele', 'Guy Michaels', 'Benjamin Moll', 'John Moore', 'Dmitry Mukhin', 'Francesco Nava', 'Rachel Ngai', 'Junius Olivier', 'Taisuke Otsu', 'Martin Pesendorfer', 'Dimitra Petropoulou', 'Michele Piccione', 'Steve Pischke', 'Christopher Pissarides', 'Ronny Razin', 'Daniel Reck', 'Ricardo Reis', 'Nico Rosetti', 'Jane Olmstead-Rumsey', 'Thomas Sampson', 'Christopher Sandmann', 'Marcia Schafgans', 'Mark Schankerman', 'Pasquale Schiraldi', 'Judith Shapiro', 'Kevin Sheedy', 'Kate Smith', 'Johannes Spinnewijn', 'Lord Nicholas Stern', 'Daniel Sturm', 'John Sutton', 'Balazs Szentes', 'Silvana Tenreyro', 'John Van Reenen', 'Yike Wang', 'Alwyn Young', 'Shengxing Zhang']\n",
      "-----------------------------------------------------------------\n",
      "['Antonio Guarino', 'Beatriz Armendariz', 'Mark Armstrong', 'Orazio Attanasio', 'Saleem Bahaj', 'Richard Blundell', 'Kirill Borusyak', 'Wendy Carlin', 'Pedro Carneiro', 'Parama Chaudhury', 'Andrew Chesher', 'Timothy Christensen', 'Gabriella Conti', 'Martin Cripps', 'Wei Cui', 'Silvia Dal Bianco', 'Ben Deaner', 'Aureo De Paula', 'Christian Dustmann', 'Raffaella Giacomini', 'DuarteGoncalves', 'Hugh Goodacre', 'Alex Gorbenko', 'JoaoGranja', 'Rodrigo Guimaraes', 'Stephen Hansen', 'Jonas Hjort', 'Steffen Huck', 'Philippe Jehiel', 'Deniz Kattwinkel', 'Toru Kitagawa', 'Terri Kneeland', 'Dennis Kristensen', 'Hyejin Ku', 'Guy Laroque', 'Valerie Lechene', 'Daniel Lewis', 'Dunli Li', 'Attila Lindner', 'Ralph Luetticke', 'Frederic Malherbe', 'Kalina Manova', 'Ramin Nassehi', 'Lars Nesheim', 'Alan Olivi', 'Duygu Ozdemir', 'Malcolm Pemberton', 'Suphanit Piyapromdee', 'Franck Portier', 'Peter Postl', 'Fabien Postel-Vinay', 'Ian Preston', 'Lukasz Rachel', 'Imran Rasul', 'Morten Ravn', 'Victor Rios-Rull', 'Nikita Roketskiy', 'Uta Schoenberg', 'Vasiliki Skreta', 'Stephen Smith', 'Ran Spiegler', 'Vincent Sterk', 'Michael Thaler', 'Michela Tincani', 'Marcos Vera Hernandez', 'Daniel Wilhelm', 'Frank Witte', 'Ming Yang', 'Ji Hee Yoon', 'Andrei Zeleneev']\n",
      "-----------------------------------------------------------------\n",
      "['Toke Aidt', 'Carolina Alves', 'Noriko Amano-Patiño', 'Michael Ashby', 'Seda Basihos', 'Victoria Bateman', 'Max Beber', 'Francisco Beltran', 'Debopam Bhattacharya', 'Florin Bilbiie', 'Juan Block', 'Peter Bossaerts', 'Paul Bouscasse', 'Charles Brendon', 'Ivano Cardinale', 'Vasco Carvalho', 'Daniele Cassese', 'Tiago Cavalcanti', 'George Charlson', 'Monojit Chatterji', 'Yujiang River Chen', 'Chuan-Han Cheng', 'Tony Cockerill', 'Collin Constantine', 'Giancarlo Corsetti', 'Ken Coutts', 'Meredith Crowley', 'Partha Dasgupta', 'Jeremy Edwards', 'Matthew Elliott', 'Aytek Erdil', 'Robert Evans']\n",
      "-----------------------------------------------------------------\n",
      "['Alison Andrew', 'Maximilian Ahrens', 'Johannes Abeler', 'Abi Adams-Prassl', 'Muhammad Farid Ahmed', 'Elizabeth Baldwin', 'Miguel Ballester', 'Alan Beggs', 'Vanessa Berenguer Rico', 'Andrea Bernini', 'Mattia Bertazzini', 'Steve Bond', 'Christopher Bowdler', 'Stephen Broadberry', 'Andrea Chiavari', 'Giulia Caprini', 'Jean-Paul Carvalho', 'Eric Chaney', 'Sarah Clifford', 'Paola Conconi', 'Simon Cowan', 'Ian Crawford', 'Sergio De Ferra', 'Stefan Dercon', 'Francis Ditraglia', 'Artur Doshchyn', 'James Duffy', 'Dennis Egger', 'Martin Ellison', 'Peter Eso', 'Andrea Ferrero', 'Douglas Gollin', 'Ayden Higgins', 'Sanjay Jain', 'Katharina Janezic', 'Beata Javorcik', 'Ian Jewitt', 'Maximilian Kasy', 'Paul Klemperer', 'Anders Kock', 'Alexandre Kohlhas', 'Nathan Lane', 'Hamish Low', 'Viktor Marinkov', 'Sophocles Mavroeidis', 'Michael McMahon', 'Romuald Méango', 'Rajssa Mechelli', 'Margaret Meyer', 'Niclas Moneke', 'Inès Moreno De Barreda', 'Bent Nielsen', 'Paula Onuchic', 'Banu Demir Pakel', 'Alexei Parakhonyak', 'Andrea Pasqualini', 'Barbara Petrongolo', 'Daniel Quigley', 'Simon Quinn', 'Federica Romei', 'Lidia Smitkova', 'Petr Sedlacek', 'Kevin Sheppard', 'Ludvig Sinander', 'Howard Smith', 'Alex Teytelboym', 'Séverine Toussaert', 'Rick Van Der Ploeg', 'John Vickers', 'Martin Weidner', 'Francesco Zanetti']\n"
     ]
    }
   ],
   "source": [
    "# to reformat the name without address and whitespace\n",
    "\n",
    "def reform_name(name):\n",
    "    name_after = ''\n",
    "    for word in name.split():\n",
    "        if word != 'Dr' and word != 'Professor' and word != 'Sir' and word != 'Prof':\n",
    "            name_after += (word+' ')\n",
    "    return name_after.strip()\n",
    "\n",
    "lse_names = list(map(lambda x: reform_name(x), lse_names))\n",
    "ucl_names = list(map(lambda x: reform_name(x), ucl_names))\n",
    "cam_names = list(map(lambda x: reform_name(x), cam_names))\n",
    "ox_names = list(map(lambda x: reform_name(x), ox_names))\n",
    "\n",
    "print(lse_names)\n",
    "print('-----------------------------------------------------------------')\n",
    "print(ucl_names)\n",
    "print('-----------------------------------------------------------------')\n",
    "print(cam_names)\n",
    "print('-----------------------------------------------------------------')\n",
    "print(ox_names)"
   ]
  },
  {
   "cell_type": "code",
   "execution_count": 7,
   "id": "e466e66a",
   "metadata": {
    "scrolled": true
   },
   "outputs": [
    {
     "name": "stdout",
     "output_type": "stream",
     "text": [
      "API key is valid!\n"
     ]
    }
   ],
   "source": [
    "#import api: springer nature\n",
    "\n",
    "with open('keys.json') as f:\n",
    "    keys = json.load(f)\n",
    "api_key = keys['spring']['api_key']\n",
    "\n",
    "url = 'https://api.springernature.com'\n",
    "params = {'name': 'Philippe Aghion', 'api_key': api_key}\n",
    "response = requests.get(url,params = params)\n",
    "\n",
    "if response.status_code == 200:\n",
    "    print(\"API key is valid!\")\n",
    "else:\n",
    "    print(\"API key is not valid.\")\n"
   ]
  },
  {
   "cell_type": "code",
   "execution_count": null,
   "id": "facd41c6",
   "metadata": {
    "scrolled": true
   },
   "outputs": [],
   "source": [
    "dict_co_creator_name={}\n",
    "dict_num_paper={}\n",
    "for name in names:\n",
    "    list_name = delete_address(name)\n",
    "    list_name = list_name.split(' ')\n",
    "    first_name = list_name[0]\n",
    "    surname = list_name[1]\n",
    "    reformat_name = surname + ', '+ first_name\n",
    "    url=f'https://api.springernature.com/metadata/json?api_key={api_key}&q=name%3A%22{surname}%2C%20{first_name}%22%2C%20subject%3AEconomics&s=1&p=10'\n",
    "    r = requests.get(url)\n",
    "    search_result = json.loads(r.text)\n",
    "    dict_co_creator_name[name] = []\n",
    "    for i in range (len(search_result['records'])):\n",
    "        creators = search_result['records'][i]['creators']\n",
    "        for creator in creators:\n",
    "            co_creator = creator['creator']\n",
    "            if co_creator != reformat_name:\n",
    "                list_name = co_creator.split(',')\n",
    "                first_name = list_name[1][1:]\n",
    "                surname = list_name[0]\n",
    "                format_name = first_name+' '+surname\n",
    "                if format_name not in dict_co_creator_name[name]:\n",
    "                    dict_co_creator_name[name].append(format_name)\n",
    "    \n",
    "    dict_num_paper[name]=0\n",
    "    years = search_result[\"facets\"][3]['values']\n",
    "    total_num_papers = 0\n",
    "    for year in years:\n",
    "        dict_num_paper[name] += int(year['count'])\n",
    "print(dict_co_creator_name)\n",
    "print(dict_num_paper)"
   ]
  },
  {
   "cell_type": "code",
   "execution_count": null,
   "id": "8ac0deea",
   "metadata": {},
   "outputs": [],
   "source": [
    "url = f'http://api.springernature.com/metadata/json?q=name:%20Johannes Spinnewijn year:2014&s=1&p=5&api_key={api_key}'\n",
    "r = requests.get(url)\n",
    "search_result = json.loads(r.text)\n",
    "search_result"
   ]
  },
  {
   "cell_type": "code",
   "execution_count": null,
   "id": "c9f4dc2c",
   "metadata": {},
   "outputs": [],
   "source": [
    "conda install -c conda-forge scholarly"
   ]
  },
  {
   "cell_type": "code",
   "execution_count": null,
   "id": "6b27f279",
   "metadata": {},
   "outputs": [],
   "source": [
    "pip install scholarly"
   ]
  },
  {
   "cell_type": "code",
   "execution_count": 38,
   "id": "0ecb31f4",
   "metadata": {},
   "outputs": [],
   "source": [
    "from scholarly import scholarly\n",
    "\n",
    "\n",
    "def get_publication_num(name):\n",
    "    try:\n",
    "        # Retrieve the author's data, fill-in, and print publication numbers\n",
    "        # Get an iterator for the author results\n",
    "        search_query = scholarly.search_author(name)\n",
    "\n",
    "        # Retrieve the first result from the iterator\n",
    "        first_author_result = next(search_query)\n",
    "\n",
    "        # Retrieve all the details for the author\n",
    "        author = scholarly.fill(first_author_result)\n",
    "\n",
    "        # use number of the titles of the author's publications \n",
    "        publication_titles = [pub['bib']['title'] for pub in author['publications']]\n",
    "        \n",
    "        return len(publication_titles)\n",
    "    \n",
    "    except StopIteration:\n",
    "        # If StopIteration is raised, return 0\n",
    "        return 0\n",
    "\n",
    "\n",
    "def get_num_citedby(name):\n",
    "    try:\n",
    "        # Retrieve the author's data, fill-in, and print publication numbers\n",
    "        # Get an iterator for the author results\n",
    "        search_query = scholarly.search_author(name)\n",
    "\n",
    "        # Retrieve the first result from the iterator\n",
    "        first_author_result = next(search_query)\n",
    "\n",
    "        # Retrieve all the details for the author\n",
    "        author = scholarly.fill(first_author_result)\n",
    "        \n",
    "        #get number of citedby\n",
    "        num_cite = first_author_result['citedby']\n",
    "        return num_cite\n",
    "    \n",
    "    except StopIteration:\n",
    "        # If StopIteration is raised, return 0\n",
    "        return 0"
   ]
  },
  {
   "cell_type": "code",
   "execution_count": 40,
   "id": "0a4397c6",
   "metadata": {
    "scrolled": true
   },
   "outputs": [
    {
     "ename": "KeyboardInterrupt",
     "evalue": "",
     "output_type": "error",
     "traceback": [
      "\u001b[0;31m---------------------------------------------------------------------------\u001b[0m",
      "\u001b[0;31mKeyboardInterrupt\u001b[0m                         Traceback (most recent call last)",
      "Input \u001b[0;32mIn [40]\u001b[0m, in \u001b[0;36m<cell line: 6>\u001b[0;34m()\u001b[0m\n\u001b[1;32m      4\u001b[0m cam_citedby \u001b[38;5;241m=\u001b[39m {}\n\u001b[1;32m      6\u001b[0m \u001b[38;5;28;01mfor\u001b[39;00m name \u001b[38;5;129;01min\u001b[39;00m ucl_names:\n\u001b[0;32m----> 7\u001b[0m     ucl_staff_citedby \u001b[38;5;241m=\u001b[39m \u001b[43mget_num_citedby\u001b[49m\u001b[43m(\u001b[49m\u001b[43mname\u001b[49m\u001b[43m)\u001b[49m\n\u001b[1;32m      8\u001b[0m     ucl_citedby[name] \u001b[38;5;241m=\u001b[39m ucl_staff_citedby\n\u001b[1;32m     10\u001b[0m \u001b[38;5;28;01mfor\u001b[39;00m name \u001b[38;5;129;01min\u001b[39;00m lse_names:\n",
      "Input \u001b[0;32mIn [38]\u001b[0m, in \u001b[0;36mget_num_citedby\u001b[0;34m(name)\u001b[0m\n\u001b[1;32m     33\u001b[0m first_author_result \u001b[38;5;241m=\u001b[39m \u001b[38;5;28mnext\u001b[39m(search_query)\n\u001b[1;32m     35\u001b[0m \u001b[38;5;66;03m# Retrieve all the details for the author\u001b[39;00m\n\u001b[0;32m---> 36\u001b[0m author \u001b[38;5;241m=\u001b[39m \u001b[43mscholarly\u001b[49m\u001b[38;5;241;43m.\u001b[39;49m\u001b[43mfill\u001b[49m\u001b[43m(\u001b[49m\u001b[43mfirst_author_result\u001b[49m\u001b[43m)\u001b[49m\n\u001b[1;32m     38\u001b[0m \u001b[38;5;66;03m#get number of citedby\u001b[39;00m\n\u001b[1;32m     39\u001b[0m num_cite \u001b[38;5;241m=\u001b[39m first_author_result[\u001b[38;5;124m'\u001b[39m\u001b[38;5;124mcitedby\u001b[39m\u001b[38;5;124m'\u001b[39m]\n",
      "File \u001b[0;32m~/opt/anaconda3/lib/python3.9/site-packages/scholarly/_scholarly.py:233\u001b[0m, in \u001b[0;36m_Scholarly.fill\u001b[0;34m(self, object, sections, sortby, publication_limit)\u001b[0m\n\u001b[1;32m    231\u001b[0m \u001b[38;5;28;01mif\u001b[39;00m \u001b[38;5;28mobject\u001b[39m[\u001b[38;5;124m'\u001b[39m\u001b[38;5;124mcontainer_type\u001b[39m\u001b[38;5;124m'\u001b[39m] \u001b[38;5;241m==\u001b[39m \u001b[38;5;124m\"\u001b[39m\u001b[38;5;124mAuthor\u001b[39m\u001b[38;5;124m\"\u001b[39m:\n\u001b[1;32m    232\u001b[0m     author_parser \u001b[38;5;241m=\u001b[39m AuthorParser(\u001b[38;5;28mself\u001b[39m\u001b[38;5;241m.\u001b[39m__nav)\n\u001b[0;32m--> 233\u001b[0m     \u001b[38;5;28mobject\u001b[39m \u001b[38;5;241m=\u001b[39m \u001b[43mauthor_parser\u001b[49m\u001b[38;5;241;43m.\u001b[39;49m\u001b[43mfill\u001b[49m\u001b[43m(\u001b[49m\u001b[38;5;28;43mobject\u001b[39;49m\u001b[43m,\u001b[49m\u001b[43m \u001b[49m\u001b[43msections\u001b[49m\u001b[43m,\u001b[49m\u001b[43m \u001b[49m\u001b[43msortby\u001b[49m\u001b[43m,\u001b[49m\u001b[43m \u001b[49m\u001b[43mpublication_limit\u001b[49m\u001b[43m)\u001b[49m\n\u001b[1;32m    234\u001b[0m     \u001b[38;5;28;01mif\u001b[39;00m \u001b[38;5;28mobject\u001b[39m \u001b[38;5;129;01mis\u001b[39;00m \u001b[38;5;28;01mFalse\u001b[39;00m:\n\u001b[1;32m    235\u001b[0m         \u001b[38;5;28;01mraise\u001b[39;00m \u001b[38;5;167;01mValueError\u001b[39;00m(\u001b[38;5;124m\"\u001b[39m\u001b[38;5;124mIncorrect input\u001b[39m\u001b[38;5;124m\"\u001b[39m)\n",
      "File \u001b[0;32m~/opt/anaconda3/lib/python3.9/site-packages/scholarly/author_parser.py:454\u001b[0m, in \u001b[0;36mAuthorParser.fill\u001b[0;34m(self, author, sections, sortby, publication_limit)\u001b[0m\n\u001b[1;32m    452\u001b[0m     \u001b[38;5;28;01mfor\u001b[39;00m i \u001b[38;5;129;01min\u001b[39;00m \u001b[38;5;28mself\u001b[39m\u001b[38;5;241m.\u001b[39m_sections:\n\u001b[1;32m    453\u001b[0m         \u001b[38;5;28;01mif\u001b[39;00m i \u001b[38;5;129;01mnot\u001b[39;00m \u001b[38;5;129;01min\u001b[39;00m author[\u001b[38;5;124m'\u001b[39m\u001b[38;5;124mfilled\u001b[39m\u001b[38;5;124m'\u001b[39m]:\n\u001b[0;32m--> 454\u001b[0m             (\u001b[38;5;28;43mgetattr\u001b[39;49m\u001b[43m(\u001b[49m\u001b[38;5;28;43mself\u001b[39;49m\u001b[43m,\u001b[49m\u001b[43m \u001b[49m\u001b[38;5;124;43mf\u001b[39;49m\u001b[38;5;124;43m'\u001b[39;49m\u001b[38;5;124;43m_fill_\u001b[39;49m\u001b[38;5;132;43;01m{\u001b[39;49;00m\u001b[43mi\u001b[49m\u001b[38;5;132;43;01m}\u001b[39;49;00m\u001b[38;5;124;43m'\u001b[39;49m\u001b[43m)\u001b[49m\u001b[43m(\u001b[49m\u001b[43msoup\u001b[49m\u001b[43m,\u001b[49m\u001b[43m \u001b[49m\u001b[43mauthor\u001b[49m\u001b[43m)\u001b[49m \u001b[38;5;28;01mif\u001b[39;00m i \u001b[38;5;241m!=\u001b[39m \u001b[38;5;124m'\u001b[39m\u001b[38;5;124mpublications\u001b[39m\u001b[38;5;124m'\u001b[39m \u001b[38;5;28;01melse\u001b[39;00m \u001b[38;5;28mgetattr\u001b[39m(\u001b[38;5;28mself\u001b[39m, \u001b[38;5;124mf\u001b[39m\u001b[38;5;124m'\u001b[39m\u001b[38;5;124m_fill_\u001b[39m\u001b[38;5;132;01m{\u001b[39;00mi\u001b[38;5;132;01m}\u001b[39;00m\u001b[38;5;124m'\u001b[39m)(soup, author, publication_limit, sortby_str))\n\u001b[1;32m    455\u001b[0m             author[\u001b[38;5;124m'\u001b[39m\u001b[38;5;124mfilled\u001b[39m\u001b[38;5;124m'\u001b[39m]\u001b[38;5;241m.\u001b[39mappend(i)\n\u001b[1;32m    456\u001b[0m \u001b[38;5;28;01melse\u001b[39;00m:\n",
      "File \u001b[0;32m~/opt/anaconda3/lib/python3.9/site-packages/scholarly/author_parser.py:171\u001b[0m, in \u001b[0;36mAuthorParser._fill_public_access\u001b[0;34m(self, soup, author)\u001b[0m\n\u001b[1;32m    169\u001b[0m     url \u001b[38;5;241m=\u001b[39m next_button[\u001b[38;5;124m'\u001b[39m\u001b[38;5;124monclick\u001b[39m\u001b[38;5;124m'\u001b[39m][\u001b[38;5;241m17\u001b[39m:\u001b[38;5;241m-\u001b[39m\u001b[38;5;241m1\u001b[39m]\n\u001b[1;32m    170\u001b[0m     url \u001b[38;5;241m=\u001b[39m codecs\u001b[38;5;241m.\u001b[39mgetdecoder(\u001b[38;5;124m\"\u001b[39m\u001b[38;5;124municode_escape\u001b[39m\u001b[38;5;124m\"\u001b[39m)(url)[\u001b[38;5;241m0\u001b[39m]\n\u001b[0;32m--> 171\u001b[0m     soup \u001b[38;5;241m=\u001b[39m \u001b[38;5;28;43mself\u001b[39;49m\u001b[38;5;241;43m.\u001b[39;49m\u001b[43mnav\u001b[49m\u001b[38;5;241;43m.\u001b[39;49m\u001b[43m_get_soup\u001b[49m\u001b[43m(\u001b[49m\u001b[43murl\u001b[49m\u001b[43m)\u001b[49m\n\u001b[1;32m    172\u001b[0m \u001b[38;5;28;01melse\u001b[39;00m:\n\u001b[1;32m    173\u001b[0m     \u001b[38;5;28;01mbreak\u001b[39;00m\n",
      "File \u001b[0;32m~/opt/anaconda3/lib/python3.9/site-packages/scholarly/_navigator.py:239\u001b[0m, in \u001b[0;36mNavigator._get_soup\u001b[0;34m(self, url)\u001b[0m\n\u001b[1;32m    237\u001b[0m \u001b[38;5;28;01mdef\u001b[39;00m \u001b[38;5;21m_get_soup\u001b[39m(\u001b[38;5;28mself\u001b[39m, url: \u001b[38;5;28mstr\u001b[39m) \u001b[38;5;241m-\u001b[39m\u001b[38;5;241m>\u001b[39m BeautifulSoup:\n\u001b[1;32m    238\u001b[0m     \u001b[38;5;124;03m\"\"\"Return the BeautifulSoup for a page on scholar.google.com\"\"\"\u001b[39;00m\n\u001b[0;32m--> 239\u001b[0m     html \u001b[38;5;241m=\u001b[39m \u001b[38;5;28;43mself\u001b[39;49m\u001b[38;5;241;43m.\u001b[39;49m\u001b[43m_get_page\u001b[49m\u001b[43m(\u001b[49m\u001b[38;5;124;43m'\u001b[39;49m\u001b[38;5;124;43mhttps://scholar.google.com\u001b[39;49m\u001b[38;5;132;43;01m{0}\u001b[39;49;00m\u001b[38;5;124;43m'\u001b[39;49m\u001b[38;5;241;43m.\u001b[39;49m\u001b[43mformat\u001b[49m\u001b[43m(\u001b[49m\u001b[43murl\u001b[49m\u001b[43m)\u001b[49m\u001b[43m)\u001b[49m\n\u001b[1;32m    240\u001b[0m     html \u001b[38;5;241m=\u001b[39m html\u001b[38;5;241m.\u001b[39mreplace(\u001b[38;5;124mu\u001b[39m\u001b[38;5;124m'\u001b[39m\u001b[38;5;130;01m\\xa0\u001b[39;00m\u001b[38;5;124m'\u001b[39m, \u001b[38;5;124mu\u001b[39m\u001b[38;5;124m'\u001b[39m\u001b[38;5;124m \u001b[39m\u001b[38;5;124m'\u001b[39m)\n\u001b[1;32m    241\u001b[0m     res \u001b[38;5;241m=\u001b[39m BeautifulSoup(html, \u001b[38;5;124m'\u001b[39m\u001b[38;5;124mhtml.parser\u001b[39m\u001b[38;5;124m'\u001b[39m)\n",
      "File \u001b[0;32m~/opt/anaconda3/lib/python3.9/site-packages/scholarly/_navigator.py:114\u001b[0m, in \u001b[0;36mNavigator._get_page\u001b[0;34m(self, pagerequest, premium)\u001b[0m\n\u001b[1;32m    112\u001b[0m w \u001b[38;5;241m=\u001b[39m random\u001b[38;5;241m.\u001b[39muniform(\u001b[38;5;241m1\u001b[39m,\u001b[38;5;241m2\u001b[39m)\n\u001b[1;32m    113\u001b[0m time\u001b[38;5;241m.\u001b[39msleep(w)\n\u001b[0;32m--> 114\u001b[0m resp \u001b[38;5;241m=\u001b[39m \u001b[43msession\u001b[49m\u001b[38;5;241;43m.\u001b[39;49m\u001b[43mget\u001b[49m\u001b[43m(\u001b[49m\u001b[43mpagerequest\u001b[49m\u001b[43m,\u001b[49m\u001b[43m \u001b[49m\u001b[43mtimeout\u001b[49m\u001b[38;5;241;43m=\u001b[39;49m\u001b[43mtimeout\u001b[49m\u001b[43m)\u001b[49m\n\u001b[1;32m    115\u001b[0m \u001b[38;5;28;01mif\u001b[39;00m premium \u001b[38;5;129;01mis\u001b[39;00m \u001b[38;5;28;01mFalse\u001b[39;00m:  \u001b[38;5;66;03m# premium methods may contain sensitive information\u001b[39;00m\n\u001b[1;32m    116\u001b[0m     \u001b[38;5;28mself\u001b[39m\u001b[38;5;241m.\u001b[39mlogger\u001b[38;5;241m.\u001b[39mdebug(\u001b[38;5;124m\"\u001b[39m\u001b[38;5;124mSession proxy config is \u001b[39m\u001b[38;5;132;01m{}\u001b[39;00m\u001b[38;5;124m\"\u001b[39m\u001b[38;5;241m.\u001b[39mformat(pm\u001b[38;5;241m.\u001b[39m_proxies))\n",
      "File \u001b[0;32m~/opt/anaconda3/lib/python3.9/site-packages/httpx/_client.py:1041\u001b[0m, in \u001b[0;36mClient.get\u001b[0;34m(self, url, params, headers, cookies, auth, follow_redirects, timeout, extensions)\u001b[0m\n\u001b[1;32m   1024\u001b[0m \u001b[38;5;28;01mdef\u001b[39;00m \u001b[38;5;21mget\u001b[39m(\n\u001b[1;32m   1025\u001b[0m     \u001b[38;5;28mself\u001b[39m,\n\u001b[1;32m   1026\u001b[0m     url: URLTypes,\n\u001b[0;32m   (...)\u001b[0m\n\u001b[1;32m   1034\u001b[0m     extensions: typing\u001b[38;5;241m.\u001b[39mOptional[RequestExtensions] \u001b[38;5;241m=\u001b[39m \u001b[38;5;28;01mNone\u001b[39;00m,\n\u001b[1;32m   1035\u001b[0m ) \u001b[38;5;241m-\u001b[39m\u001b[38;5;241m>\u001b[39m Response:\n\u001b[1;32m   1036\u001b[0m     \u001b[38;5;124;03m\"\"\"\u001b[39;00m\n\u001b[1;32m   1037\u001b[0m \u001b[38;5;124;03m    Send a `GET` request.\u001b[39;00m\n\u001b[1;32m   1038\u001b[0m \n\u001b[1;32m   1039\u001b[0m \u001b[38;5;124;03m    **Parameters**: See `httpx.request`.\u001b[39;00m\n\u001b[1;32m   1040\u001b[0m \u001b[38;5;124;03m    \"\"\"\u001b[39;00m\n\u001b[0;32m-> 1041\u001b[0m     \u001b[38;5;28;01mreturn\u001b[39;00m \u001b[38;5;28;43mself\u001b[39;49m\u001b[38;5;241;43m.\u001b[39;49m\u001b[43mrequest\u001b[49m\u001b[43m(\u001b[49m\n\u001b[1;32m   1042\u001b[0m \u001b[43m        \u001b[49m\u001b[38;5;124;43m\"\u001b[39;49m\u001b[38;5;124;43mGET\u001b[39;49m\u001b[38;5;124;43m\"\u001b[39;49m\u001b[43m,\u001b[49m\n\u001b[1;32m   1043\u001b[0m \u001b[43m        \u001b[49m\u001b[43murl\u001b[49m\u001b[43m,\u001b[49m\n\u001b[1;32m   1044\u001b[0m \u001b[43m        \u001b[49m\u001b[43mparams\u001b[49m\u001b[38;5;241;43m=\u001b[39;49m\u001b[43mparams\u001b[49m\u001b[43m,\u001b[49m\n\u001b[1;32m   1045\u001b[0m \u001b[43m        \u001b[49m\u001b[43mheaders\u001b[49m\u001b[38;5;241;43m=\u001b[39;49m\u001b[43mheaders\u001b[49m\u001b[43m,\u001b[49m\n\u001b[1;32m   1046\u001b[0m \u001b[43m        \u001b[49m\u001b[43mcookies\u001b[49m\u001b[38;5;241;43m=\u001b[39;49m\u001b[43mcookies\u001b[49m\u001b[43m,\u001b[49m\n\u001b[1;32m   1047\u001b[0m \u001b[43m        \u001b[49m\u001b[43mauth\u001b[49m\u001b[38;5;241;43m=\u001b[39;49m\u001b[43mauth\u001b[49m\u001b[43m,\u001b[49m\n\u001b[1;32m   1048\u001b[0m \u001b[43m        \u001b[49m\u001b[43mfollow_redirects\u001b[49m\u001b[38;5;241;43m=\u001b[39;49m\u001b[43mfollow_redirects\u001b[49m\u001b[43m,\u001b[49m\n\u001b[1;32m   1049\u001b[0m \u001b[43m        \u001b[49m\u001b[43mtimeout\u001b[49m\u001b[38;5;241;43m=\u001b[39;49m\u001b[43mtimeout\u001b[49m\u001b[43m,\u001b[49m\n\u001b[1;32m   1050\u001b[0m \u001b[43m        \u001b[49m\u001b[43mextensions\u001b[49m\u001b[38;5;241;43m=\u001b[39;49m\u001b[43mextensions\u001b[49m\u001b[43m,\u001b[49m\n\u001b[1;32m   1051\u001b[0m \u001b[43m    \u001b[49m\u001b[43m)\u001b[49m\n",
      "File \u001b[0;32m~/opt/anaconda3/lib/python3.9/site-packages/httpx/_client.py:814\u001b[0m, in \u001b[0;36mClient.request\u001b[0;34m(self, method, url, content, data, files, json, params, headers, cookies, auth, follow_redirects, timeout, extensions)\u001b[0m\n\u001b[1;32m    799\u001b[0m     warnings\u001b[38;5;241m.\u001b[39mwarn(message, \u001b[38;5;167;01mDeprecationWarning\u001b[39;00m)\n\u001b[1;32m    801\u001b[0m request \u001b[38;5;241m=\u001b[39m \u001b[38;5;28mself\u001b[39m\u001b[38;5;241m.\u001b[39mbuild_request(\n\u001b[1;32m    802\u001b[0m     method\u001b[38;5;241m=\u001b[39mmethod,\n\u001b[1;32m    803\u001b[0m     url\u001b[38;5;241m=\u001b[39murl,\n\u001b[0;32m   (...)\u001b[0m\n\u001b[1;32m    812\u001b[0m     extensions\u001b[38;5;241m=\u001b[39mextensions,\n\u001b[1;32m    813\u001b[0m )\n\u001b[0;32m--> 814\u001b[0m \u001b[38;5;28;01mreturn\u001b[39;00m \u001b[38;5;28;43mself\u001b[39;49m\u001b[38;5;241;43m.\u001b[39;49m\u001b[43msend\u001b[49m\u001b[43m(\u001b[49m\u001b[43mrequest\u001b[49m\u001b[43m,\u001b[49m\u001b[43m \u001b[49m\u001b[43mauth\u001b[49m\u001b[38;5;241;43m=\u001b[39;49m\u001b[43mauth\u001b[49m\u001b[43m,\u001b[49m\u001b[43m \u001b[49m\u001b[43mfollow_redirects\u001b[49m\u001b[38;5;241;43m=\u001b[39;49m\u001b[43mfollow_redirects\u001b[49m\u001b[43m)\u001b[49m\n",
      "File \u001b[0;32m~/opt/anaconda3/lib/python3.9/site-packages/httpx/_client.py:901\u001b[0m, in \u001b[0;36mClient.send\u001b[0;34m(self, request, stream, auth, follow_redirects)\u001b[0m\n\u001b[1;32m    893\u001b[0m follow_redirects \u001b[38;5;241m=\u001b[39m (\n\u001b[1;32m    894\u001b[0m     \u001b[38;5;28mself\u001b[39m\u001b[38;5;241m.\u001b[39mfollow_redirects\n\u001b[1;32m    895\u001b[0m     \u001b[38;5;28;01mif\u001b[39;00m \u001b[38;5;28misinstance\u001b[39m(follow_redirects, UseClientDefault)\n\u001b[1;32m    896\u001b[0m     \u001b[38;5;28;01melse\u001b[39;00m follow_redirects\n\u001b[1;32m    897\u001b[0m )\n\u001b[1;32m    899\u001b[0m auth \u001b[38;5;241m=\u001b[39m \u001b[38;5;28mself\u001b[39m\u001b[38;5;241m.\u001b[39m_build_request_auth(request, auth)\n\u001b[0;32m--> 901\u001b[0m response \u001b[38;5;241m=\u001b[39m \u001b[38;5;28;43mself\u001b[39;49m\u001b[38;5;241;43m.\u001b[39;49m\u001b[43m_send_handling_auth\u001b[49m\u001b[43m(\u001b[49m\n\u001b[1;32m    902\u001b[0m \u001b[43m    \u001b[49m\u001b[43mrequest\u001b[49m\u001b[43m,\u001b[49m\n\u001b[1;32m    903\u001b[0m \u001b[43m    \u001b[49m\u001b[43mauth\u001b[49m\u001b[38;5;241;43m=\u001b[39;49m\u001b[43mauth\u001b[49m\u001b[43m,\u001b[49m\n\u001b[1;32m    904\u001b[0m \u001b[43m    \u001b[49m\u001b[43mfollow_redirects\u001b[49m\u001b[38;5;241;43m=\u001b[39;49m\u001b[43mfollow_redirects\u001b[49m\u001b[43m,\u001b[49m\n\u001b[1;32m    905\u001b[0m \u001b[43m    \u001b[49m\u001b[43mhistory\u001b[49m\u001b[38;5;241;43m=\u001b[39;49m\u001b[43m[\u001b[49m\u001b[43m]\u001b[49m\u001b[43m,\u001b[49m\n\u001b[1;32m    906\u001b[0m \u001b[43m\u001b[49m\u001b[43m)\u001b[49m\n\u001b[1;32m    907\u001b[0m \u001b[38;5;28;01mtry\u001b[39;00m:\n\u001b[1;32m    908\u001b[0m     \u001b[38;5;28;01mif\u001b[39;00m \u001b[38;5;129;01mnot\u001b[39;00m stream:\n",
      "File \u001b[0;32m~/opt/anaconda3/lib/python3.9/site-packages/httpx/_client.py:929\u001b[0m, in \u001b[0;36mClient._send_handling_auth\u001b[0;34m(self, request, auth, follow_redirects, history)\u001b[0m\n\u001b[1;32m    926\u001b[0m request \u001b[38;5;241m=\u001b[39m \u001b[38;5;28mnext\u001b[39m(auth_flow)\n\u001b[1;32m    928\u001b[0m \u001b[38;5;28;01mwhile\u001b[39;00m \u001b[38;5;28;01mTrue\u001b[39;00m:\n\u001b[0;32m--> 929\u001b[0m     response \u001b[38;5;241m=\u001b[39m \u001b[38;5;28;43mself\u001b[39;49m\u001b[38;5;241;43m.\u001b[39;49m\u001b[43m_send_handling_redirects\u001b[49m\u001b[43m(\u001b[49m\n\u001b[1;32m    930\u001b[0m \u001b[43m        \u001b[49m\u001b[43mrequest\u001b[49m\u001b[43m,\u001b[49m\n\u001b[1;32m    931\u001b[0m \u001b[43m        \u001b[49m\u001b[43mfollow_redirects\u001b[49m\u001b[38;5;241;43m=\u001b[39;49m\u001b[43mfollow_redirects\u001b[49m\u001b[43m,\u001b[49m\n\u001b[1;32m    932\u001b[0m \u001b[43m        \u001b[49m\u001b[43mhistory\u001b[49m\u001b[38;5;241;43m=\u001b[39;49m\u001b[43mhistory\u001b[49m\u001b[43m,\u001b[49m\n\u001b[1;32m    933\u001b[0m \u001b[43m    \u001b[49m\u001b[43m)\u001b[49m\n\u001b[1;32m    934\u001b[0m     \u001b[38;5;28;01mtry\u001b[39;00m:\n\u001b[1;32m    935\u001b[0m         \u001b[38;5;28;01mtry\u001b[39;00m:\n",
      "File \u001b[0;32m~/opt/anaconda3/lib/python3.9/site-packages/httpx/_client.py:966\u001b[0m, in \u001b[0;36mClient._send_handling_redirects\u001b[0;34m(self, request, follow_redirects, history)\u001b[0m\n\u001b[1;32m    963\u001b[0m \u001b[38;5;28;01mfor\u001b[39;00m hook \u001b[38;5;129;01min\u001b[39;00m \u001b[38;5;28mself\u001b[39m\u001b[38;5;241m.\u001b[39m_event_hooks[\u001b[38;5;124m\"\u001b[39m\u001b[38;5;124mrequest\u001b[39m\u001b[38;5;124m\"\u001b[39m]:\n\u001b[1;32m    964\u001b[0m     hook(request)\n\u001b[0;32m--> 966\u001b[0m response \u001b[38;5;241m=\u001b[39m \u001b[38;5;28;43mself\u001b[39;49m\u001b[38;5;241;43m.\u001b[39;49m\u001b[43m_send_single_request\u001b[49m\u001b[43m(\u001b[49m\u001b[43mrequest\u001b[49m\u001b[43m)\u001b[49m\n\u001b[1;32m    967\u001b[0m \u001b[38;5;28;01mtry\u001b[39;00m:\n\u001b[1;32m    968\u001b[0m     \u001b[38;5;28;01mfor\u001b[39;00m hook \u001b[38;5;129;01min\u001b[39;00m \u001b[38;5;28mself\u001b[39m\u001b[38;5;241m.\u001b[39m_event_hooks[\u001b[38;5;124m\"\u001b[39m\u001b[38;5;124mresponse\u001b[39m\u001b[38;5;124m\"\u001b[39m]:\n",
      "File \u001b[0;32m~/opt/anaconda3/lib/python3.9/site-packages/httpx/_client.py:1002\u001b[0m, in \u001b[0;36mClient._send_single_request\u001b[0;34m(self, request)\u001b[0m\n\u001b[1;32m    997\u001b[0m     \u001b[38;5;28;01mraise\u001b[39;00m \u001b[38;5;167;01mRuntimeError\u001b[39;00m(\n\u001b[1;32m    998\u001b[0m         \u001b[38;5;124m\"\u001b[39m\u001b[38;5;124mAttempted to send an async request with a sync Client instance.\u001b[39m\u001b[38;5;124m\"\u001b[39m\n\u001b[1;32m    999\u001b[0m     )\n\u001b[1;32m   1001\u001b[0m \u001b[38;5;28;01mwith\u001b[39;00m request_context(request\u001b[38;5;241m=\u001b[39mrequest):\n\u001b[0;32m-> 1002\u001b[0m     response \u001b[38;5;241m=\u001b[39m \u001b[43mtransport\u001b[49m\u001b[38;5;241;43m.\u001b[39;49m\u001b[43mhandle_request\u001b[49m\u001b[43m(\u001b[49m\u001b[43mrequest\u001b[49m\u001b[43m)\u001b[49m\n\u001b[1;32m   1004\u001b[0m \u001b[38;5;28;01massert\u001b[39;00m \u001b[38;5;28misinstance\u001b[39m(response\u001b[38;5;241m.\u001b[39mstream, SyncByteStream)\n\u001b[1;32m   1006\u001b[0m response\u001b[38;5;241m.\u001b[39mrequest \u001b[38;5;241m=\u001b[39m request\n",
      "File \u001b[0;32m~/opt/anaconda3/lib/python3.9/site-packages/httpx/_transports/default.py:218\u001b[0m, in \u001b[0;36mHTTPTransport.handle_request\u001b[0;34m(self, request)\u001b[0m\n\u001b[1;32m    205\u001b[0m req \u001b[38;5;241m=\u001b[39m httpcore\u001b[38;5;241m.\u001b[39mRequest(\n\u001b[1;32m    206\u001b[0m     method\u001b[38;5;241m=\u001b[39mrequest\u001b[38;5;241m.\u001b[39mmethod,\n\u001b[1;32m    207\u001b[0m     url\u001b[38;5;241m=\u001b[39mhttpcore\u001b[38;5;241m.\u001b[39mURL(\n\u001b[0;32m   (...)\u001b[0m\n\u001b[1;32m    215\u001b[0m     extensions\u001b[38;5;241m=\u001b[39mrequest\u001b[38;5;241m.\u001b[39mextensions,\n\u001b[1;32m    216\u001b[0m )\n\u001b[1;32m    217\u001b[0m \u001b[38;5;28;01mwith\u001b[39;00m map_httpcore_exceptions():\n\u001b[0;32m--> 218\u001b[0m     resp \u001b[38;5;241m=\u001b[39m \u001b[38;5;28;43mself\u001b[39;49m\u001b[38;5;241;43m.\u001b[39;49m\u001b[43m_pool\u001b[49m\u001b[38;5;241;43m.\u001b[39;49m\u001b[43mhandle_request\u001b[49m\u001b[43m(\u001b[49m\u001b[43mreq\u001b[49m\u001b[43m)\u001b[49m\n\u001b[1;32m    220\u001b[0m \u001b[38;5;28;01massert\u001b[39;00m \u001b[38;5;28misinstance\u001b[39m(resp\u001b[38;5;241m.\u001b[39mstream, typing\u001b[38;5;241m.\u001b[39mIterable)\n\u001b[1;32m    222\u001b[0m \u001b[38;5;28;01mreturn\u001b[39;00m Response(\n\u001b[1;32m    223\u001b[0m     status_code\u001b[38;5;241m=\u001b[39mresp\u001b[38;5;241m.\u001b[39mstatus,\n\u001b[1;32m    224\u001b[0m     headers\u001b[38;5;241m=\u001b[39mresp\u001b[38;5;241m.\u001b[39mheaders,\n\u001b[1;32m    225\u001b[0m     stream\u001b[38;5;241m=\u001b[39mResponseStream(resp\u001b[38;5;241m.\u001b[39mstream),\n\u001b[1;32m    226\u001b[0m     extensions\u001b[38;5;241m=\u001b[39mresp\u001b[38;5;241m.\u001b[39mextensions,\n\u001b[1;32m    227\u001b[0m )\n",
      "File \u001b[0;32m~/opt/anaconda3/lib/python3.9/site-packages/httpcore/_sync/connection_pool.py:253\u001b[0m, in \u001b[0;36mConnectionPool.handle_request\u001b[0;34m(self, request)\u001b[0m\n\u001b[1;32m    251\u001b[0m \u001b[38;5;28;01mexcept\u001b[39;00m \u001b[38;5;167;01mBaseException\u001b[39;00m \u001b[38;5;28;01mas\u001b[39;00m exc:\n\u001b[1;32m    252\u001b[0m     \u001b[38;5;28mself\u001b[39m\u001b[38;5;241m.\u001b[39mresponse_closed(status)\n\u001b[0;32m--> 253\u001b[0m     \u001b[38;5;28;01mraise\u001b[39;00m exc\n\u001b[1;32m    254\u001b[0m \u001b[38;5;28;01melse\u001b[39;00m:\n\u001b[1;32m    255\u001b[0m     \u001b[38;5;28;01mbreak\u001b[39;00m\n",
      "File \u001b[0;32m~/opt/anaconda3/lib/python3.9/site-packages/httpcore/_sync/connection_pool.py:237\u001b[0m, in \u001b[0;36mConnectionPool.handle_request\u001b[0;34m(self, request)\u001b[0m\n\u001b[1;32m    234\u001b[0m         \u001b[38;5;28;01mraise\u001b[39;00m exc\n\u001b[1;32m    236\u001b[0m \u001b[38;5;28;01mtry\u001b[39;00m:\n\u001b[0;32m--> 237\u001b[0m     response \u001b[38;5;241m=\u001b[39m \u001b[43mconnection\u001b[49m\u001b[38;5;241;43m.\u001b[39;49m\u001b[43mhandle_request\u001b[49m\u001b[43m(\u001b[49m\u001b[43mrequest\u001b[49m\u001b[43m)\u001b[49m\n\u001b[1;32m    238\u001b[0m \u001b[38;5;28;01mexcept\u001b[39;00m ConnectionNotAvailable:\n\u001b[1;32m    239\u001b[0m     \u001b[38;5;66;03m# The ConnectionNotAvailable exception is a special case, that\u001b[39;00m\n\u001b[1;32m    240\u001b[0m     \u001b[38;5;66;03m# indicates we need to retry the request on a new connection.\u001b[39;00m\n\u001b[0;32m   (...)\u001b[0m\n\u001b[1;32m    244\u001b[0m     \u001b[38;5;66;03m# might end up as an HTTP/2 connection, but which actually ends\u001b[39;00m\n\u001b[1;32m    245\u001b[0m     \u001b[38;5;66;03m# up as HTTP/1.1.\u001b[39;00m\n\u001b[1;32m    246\u001b[0m     \u001b[38;5;28;01mwith\u001b[39;00m \u001b[38;5;28mself\u001b[39m\u001b[38;5;241m.\u001b[39m_pool_lock:\n\u001b[1;32m    247\u001b[0m         \u001b[38;5;66;03m# Maintain our position in the request queue, but reset the\u001b[39;00m\n\u001b[1;32m    248\u001b[0m         \u001b[38;5;66;03m# status so that the request becomes queued again.\u001b[39;00m\n",
      "File \u001b[0;32m~/opt/anaconda3/lib/python3.9/site-packages/httpcore/_sync/connection.py:90\u001b[0m, in \u001b[0;36mHTTPConnection.handle_request\u001b[0;34m(self, request)\u001b[0m\n\u001b[1;32m     87\u001b[0m     \u001b[38;5;28;01melif\u001b[39;00m \u001b[38;5;129;01mnot\u001b[39;00m \u001b[38;5;28mself\u001b[39m\u001b[38;5;241m.\u001b[39m_connection\u001b[38;5;241m.\u001b[39mis_available():\n\u001b[1;32m     88\u001b[0m         \u001b[38;5;28;01mraise\u001b[39;00m ConnectionNotAvailable()\n\u001b[0;32m---> 90\u001b[0m \u001b[38;5;28;01mreturn\u001b[39;00m \u001b[38;5;28;43mself\u001b[39;49m\u001b[38;5;241;43m.\u001b[39;49m\u001b[43m_connection\u001b[49m\u001b[38;5;241;43m.\u001b[39;49m\u001b[43mhandle_request\u001b[49m\u001b[43m(\u001b[49m\u001b[43mrequest\u001b[49m\u001b[43m)\u001b[49m\n",
      "File \u001b[0;32m~/opt/anaconda3/lib/python3.9/site-packages/httpcore/_sync/http11.py:116\u001b[0m, in \u001b[0;36mHTTP11Connection.handle_request\u001b[0;34m(self, request)\u001b[0m\n\u001b[1;32m    114\u001b[0m \u001b[38;5;28;01mwith\u001b[39;00m Trace(\u001b[38;5;124m\"\u001b[39m\u001b[38;5;124mhttp11.response_closed\u001b[39m\u001b[38;5;124m\"\u001b[39m, request) \u001b[38;5;28;01mas\u001b[39;00m trace:\n\u001b[1;32m    115\u001b[0m     \u001b[38;5;28mself\u001b[39m\u001b[38;5;241m.\u001b[39m_response_closed()\n\u001b[0;32m--> 116\u001b[0m \u001b[38;5;28;01mraise\u001b[39;00m exc\n",
      "File \u001b[0;32m~/opt/anaconda3/lib/python3.9/site-packages/httpcore/_sync/http11.py:95\u001b[0m, in \u001b[0;36mHTTP11Connection.handle_request\u001b[0;34m(self, request)\u001b[0m\n\u001b[1;32m     86\u001b[0m     \u001b[38;5;28mself\u001b[39m\u001b[38;5;241m.\u001b[39m_send_request_body(\u001b[38;5;241m*\u001b[39m\u001b[38;5;241m*\u001b[39mkwargs)\n\u001b[1;32m     87\u001b[0m \u001b[38;5;28;01mwith\u001b[39;00m Trace(\n\u001b[1;32m     88\u001b[0m     \u001b[38;5;124m\"\u001b[39m\u001b[38;5;124mhttp11.receive_response_headers\u001b[39m\u001b[38;5;124m\"\u001b[39m, request, kwargs\n\u001b[1;32m     89\u001b[0m ) \u001b[38;5;28;01mas\u001b[39;00m trace:\n\u001b[1;32m     90\u001b[0m     (\n\u001b[1;32m     91\u001b[0m         http_version,\n\u001b[1;32m     92\u001b[0m         status,\n\u001b[1;32m     93\u001b[0m         reason_phrase,\n\u001b[1;32m     94\u001b[0m         headers,\n\u001b[0;32m---> 95\u001b[0m     ) \u001b[38;5;241m=\u001b[39m \u001b[38;5;28;43mself\u001b[39;49m\u001b[38;5;241;43m.\u001b[39;49m\u001b[43m_receive_response_headers\u001b[49m\u001b[43m(\u001b[49m\u001b[38;5;241;43m*\u001b[39;49m\u001b[38;5;241;43m*\u001b[39;49m\u001b[43mkwargs\u001b[49m\u001b[43m)\u001b[49m\n\u001b[1;32m     96\u001b[0m     trace\u001b[38;5;241m.\u001b[39mreturn_value \u001b[38;5;241m=\u001b[39m (\n\u001b[1;32m     97\u001b[0m         http_version,\n\u001b[1;32m     98\u001b[0m         status,\n\u001b[1;32m     99\u001b[0m         reason_phrase,\n\u001b[1;32m    100\u001b[0m         headers,\n\u001b[1;32m    101\u001b[0m     )\n\u001b[1;32m    103\u001b[0m \u001b[38;5;28;01mreturn\u001b[39;00m Response(\n\u001b[1;32m    104\u001b[0m     status\u001b[38;5;241m=\u001b[39mstatus,\n\u001b[1;32m    105\u001b[0m     headers\u001b[38;5;241m=\u001b[39mheaders,\n\u001b[0;32m   (...)\u001b[0m\n\u001b[1;32m    111\u001b[0m     },\n\u001b[1;32m    112\u001b[0m )\n",
      "File \u001b[0;32m~/opt/anaconda3/lib/python3.9/site-packages/httpcore/_sync/http11.py:159\u001b[0m, in \u001b[0;36mHTTP11Connection._receive_response_headers\u001b[0;34m(self, request)\u001b[0m\n\u001b[1;32m    156\u001b[0m timeout \u001b[38;5;241m=\u001b[39m timeouts\u001b[38;5;241m.\u001b[39mget(\u001b[38;5;124m\"\u001b[39m\u001b[38;5;124mread\u001b[39m\u001b[38;5;124m\"\u001b[39m, \u001b[38;5;28;01mNone\u001b[39;00m)\n\u001b[1;32m    158\u001b[0m \u001b[38;5;28;01mwhile\u001b[39;00m \u001b[38;5;28;01mTrue\u001b[39;00m:\n\u001b[0;32m--> 159\u001b[0m     event \u001b[38;5;241m=\u001b[39m \u001b[38;5;28;43mself\u001b[39;49m\u001b[38;5;241;43m.\u001b[39;49m\u001b[43m_receive_event\u001b[49m\u001b[43m(\u001b[49m\u001b[43mtimeout\u001b[49m\u001b[38;5;241;43m=\u001b[39;49m\u001b[43mtimeout\u001b[49m\u001b[43m)\u001b[49m\n\u001b[1;32m    160\u001b[0m     \u001b[38;5;28;01mif\u001b[39;00m \u001b[38;5;28misinstance\u001b[39m(event, h11\u001b[38;5;241m.\u001b[39mResponse):\n\u001b[1;32m    161\u001b[0m         \u001b[38;5;28;01mbreak\u001b[39;00m\n",
      "File \u001b[0;32m~/opt/anaconda3/lib/python3.9/site-packages/httpcore/_sync/http11.py:195\u001b[0m, in \u001b[0;36mHTTP11Connection._receive_event\u001b[0;34m(self, timeout)\u001b[0m\n\u001b[1;32m    192\u001b[0m     event \u001b[38;5;241m=\u001b[39m \u001b[38;5;28mself\u001b[39m\u001b[38;5;241m.\u001b[39m_h11_state\u001b[38;5;241m.\u001b[39mnext_event()\n\u001b[1;32m    194\u001b[0m \u001b[38;5;28;01mif\u001b[39;00m event \u001b[38;5;129;01mis\u001b[39;00m h11\u001b[38;5;241m.\u001b[39mNEED_DATA:\n\u001b[0;32m--> 195\u001b[0m     data \u001b[38;5;241m=\u001b[39m \u001b[38;5;28;43mself\u001b[39;49m\u001b[38;5;241;43m.\u001b[39;49m\u001b[43m_network_stream\u001b[49m\u001b[38;5;241;43m.\u001b[39;49m\u001b[43mread\u001b[49m\u001b[43m(\u001b[49m\n\u001b[1;32m    196\u001b[0m \u001b[43m        \u001b[49m\u001b[38;5;28;43mself\u001b[39;49m\u001b[38;5;241;43m.\u001b[39;49m\u001b[43mREAD_NUM_BYTES\u001b[49m\u001b[43m,\u001b[49m\u001b[43m \u001b[49m\u001b[43mtimeout\u001b[49m\u001b[38;5;241;43m=\u001b[39;49m\u001b[43mtimeout\u001b[49m\n\u001b[1;32m    197\u001b[0m \u001b[43m    \u001b[49m\u001b[43m)\u001b[49m\n\u001b[1;32m    199\u001b[0m     \u001b[38;5;66;03m# If we feed this case through h11 we'll raise an exception like:\u001b[39;00m\n\u001b[1;32m    200\u001b[0m     \u001b[38;5;66;03m#\u001b[39;00m\n\u001b[1;32m    201\u001b[0m     \u001b[38;5;66;03m#     httpcore.RemoteProtocolError: can't handle event type\u001b[39;00m\n\u001b[0;32m   (...)\u001b[0m\n\u001b[1;32m    205\u001b[0m     \u001b[38;5;66;03m# perspective. Instead we handle this case distinctly and treat\u001b[39;00m\n\u001b[1;32m    206\u001b[0m     \u001b[38;5;66;03m# it as a ConnectError.\u001b[39;00m\n\u001b[1;32m    207\u001b[0m     \u001b[38;5;28;01mif\u001b[39;00m data \u001b[38;5;241m==\u001b[39m \u001b[38;5;124mb\u001b[39m\u001b[38;5;124m\"\u001b[39m\u001b[38;5;124m\"\u001b[39m \u001b[38;5;129;01mand\u001b[39;00m \u001b[38;5;28mself\u001b[39m\u001b[38;5;241m.\u001b[39m_h11_state\u001b[38;5;241m.\u001b[39mtheir_state \u001b[38;5;241m==\u001b[39m h11\u001b[38;5;241m.\u001b[39mSEND_RESPONSE:\n",
      "File \u001b[0;32m~/opt/anaconda3/lib/python3.9/site-packages/httpcore/backends/sync.py:28\u001b[0m, in \u001b[0;36mSyncStream.read\u001b[0;34m(self, max_bytes, timeout)\u001b[0m\n\u001b[1;32m     26\u001b[0m \u001b[38;5;28;01mwith\u001b[39;00m map_exceptions(exc_map):\n\u001b[1;32m     27\u001b[0m     \u001b[38;5;28mself\u001b[39m\u001b[38;5;241m.\u001b[39m_sock\u001b[38;5;241m.\u001b[39msettimeout(timeout)\n\u001b[0;32m---> 28\u001b[0m     \u001b[38;5;28;01mreturn\u001b[39;00m \u001b[38;5;28;43mself\u001b[39;49m\u001b[38;5;241;43m.\u001b[39;49m\u001b[43m_sock\u001b[49m\u001b[38;5;241;43m.\u001b[39;49m\u001b[43mrecv\u001b[49m\u001b[43m(\u001b[49m\u001b[43mmax_bytes\u001b[49m\u001b[43m)\u001b[49m\n",
      "File \u001b[0;32m~/opt/anaconda3/lib/python3.9/ssl.py:1226\u001b[0m, in \u001b[0;36mSSLSocket.recv\u001b[0;34m(self, buflen, flags)\u001b[0m\n\u001b[1;32m   1222\u001b[0m     \u001b[38;5;28;01mif\u001b[39;00m flags \u001b[38;5;241m!=\u001b[39m \u001b[38;5;241m0\u001b[39m:\n\u001b[1;32m   1223\u001b[0m         \u001b[38;5;28;01mraise\u001b[39;00m \u001b[38;5;167;01mValueError\u001b[39;00m(\n\u001b[1;32m   1224\u001b[0m             \u001b[38;5;124m\"\u001b[39m\u001b[38;5;124mnon-zero flags not allowed in calls to recv() on \u001b[39m\u001b[38;5;132;01m%s\u001b[39;00m\u001b[38;5;124m\"\u001b[39m \u001b[38;5;241m%\u001b[39m\n\u001b[1;32m   1225\u001b[0m             \u001b[38;5;28mself\u001b[39m\u001b[38;5;241m.\u001b[39m\u001b[38;5;18m__class__\u001b[39m)\n\u001b[0;32m-> 1226\u001b[0m     \u001b[38;5;28;01mreturn\u001b[39;00m \u001b[38;5;28;43mself\u001b[39;49m\u001b[38;5;241;43m.\u001b[39;49m\u001b[43mread\u001b[49m\u001b[43m(\u001b[49m\u001b[43mbuflen\u001b[49m\u001b[43m)\u001b[49m\n\u001b[1;32m   1227\u001b[0m \u001b[38;5;28;01melse\u001b[39;00m:\n\u001b[1;32m   1228\u001b[0m     \u001b[38;5;28;01mreturn\u001b[39;00m \u001b[38;5;28msuper\u001b[39m()\u001b[38;5;241m.\u001b[39mrecv(buflen, flags)\n",
      "File \u001b[0;32m~/opt/anaconda3/lib/python3.9/ssl.py:1101\u001b[0m, in \u001b[0;36mSSLSocket.read\u001b[0;34m(self, len, buffer)\u001b[0m\n\u001b[1;32m   1099\u001b[0m         \u001b[38;5;28;01mreturn\u001b[39;00m \u001b[38;5;28mself\u001b[39m\u001b[38;5;241m.\u001b[39m_sslobj\u001b[38;5;241m.\u001b[39mread(\u001b[38;5;28mlen\u001b[39m, buffer)\n\u001b[1;32m   1100\u001b[0m     \u001b[38;5;28;01melse\u001b[39;00m:\n\u001b[0;32m-> 1101\u001b[0m         \u001b[38;5;28;01mreturn\u001b[39;00m \u001b[38;5;28;43mself\u001b[39;49m\u001b[38;5;241;43m.\u001b[39;49m\u001b[43m_sslobj\u001b[49m\u001b[38;5;241;43m.\u001b[39;49m\u001b[43mread\u001b[49m\u001b[43m(\u001b[49m\u001b[38;5;28;43mlen\u001b[39;49m\u001b[43m)\u001b[49m\n\u001b[1;32m   1102\u001b[0m \u001b[38;5;28;01mexcept\u001b[39;00m SSLError \u001b[38;5;28;01mas\u001b[39;00m x:\n\u001b[1;32m   1103\u001b[0m     \u001b[38;5;28;01mif\u001b[39;00m x\u001b[38;5;241m.\u001b[39margs[\u001b[38;5;241m0\u001b[39m] \u001b[38;5;241m==\u001b[39m SSL_ERROR_EOF \u001b[38;5;129;01mand\u001b[39;00m \u001b[38;5;28mself\u001b[39m\u001b[38;5;241m.\u001b[39msuppress_ragged_eofs:\n",
      "\u001b[0;31mKeyboardInterrupt\u001b[0m: "
     ]
    }
   ],
   "source": [
    "ucl_citedby = {}\n",
    "lse_citedby = {}\n",
    "ox_citedby = {}\n",
    "cam_citedby = {}\n",
    "\n",
    "for name in ucl_names:\n",
    "    ucl_staff_citedby = get_num_citedby(name)\n",
    "    ucl_citedby[name] = ucl_staff_citedby\n",
    "\n",
    "for name in lse_names:\n",
    "    lse_staff_citedby = get_num_citedby(name)\n",
    "    lse_citedby[name] = lse_staff_citedby\n",
    "\n",
    "for name in ox_names:\n",
    "    ox_staff_citedby = get_publication_num(name)\n",
    "    ox_citedby[name] = ox_staff_citedby\n",
    "\n",
    "for name in cam_names:\n",
    "    cam_staff_citedby= get_publication_num(name)\n",
    "    cam_citedby[name] = ox_staff_citedby"
   ]
  },
  {
   "cell_type": "code",
   "execution_count": 43,
   "id": "2b93af07",
   "metadata": {},
   "outputs": [
    {
     "data": {
      "text/plain": [
       "92581"
      ]
     },
     "execution_count": 43,
     "metadata": {},
     "output_type": "execute_result"
    }
   ],
   "source": [
    "get_num_citedby('Richard Blundell')"
   ]
  },
  {
   "cell_type": "code",
   "execution_count": 42,
   "id": "25ffa185",
   "metadata": {},
   "outputs": [
    {
     "data": {
      "text/plain": [
       "{}"
      ]
     },
     "execution_count": 42,
     "metadata": {},
     "output_type": "execute_result"
    }
   ],
   "source": [
    "lse_pub"
   ]
  },
  {
   "cell_type": "code",
   "execution_count": null,
   "id": "ee27040d",
   "metadata": {},
   "outputs": [],
   "source": [
    "ox_pub"
   ]
  },
  {
   "cell_type": "code",
   "execution_count": null,
   "id": "535da251",
   "metadata": {},
   "outputs": [],
   "source": [
    "cam_pub"
   ]
  },
  {
   "cell_type": "code",
   "execution_count": null,
   "id": "5da3081d",
   "metadata": {},
   "outputs": [],
   "source": []
  }
 ],
 "metadata": {
  "kernelspec": {
   "display_name": "Python 3 (ipykernel)",
   "language": "python",
   "name": "python3"
  },
  "language_info": {
   "codemirror_mode": {
    "name": "ipython",
    "version": 3
   },
   "file_extension": ".py",
   "mimetype": "text/x-python",
   "name": "python",
   "nbconvert_exporter": "python",
   "pygments_lexer": "ipython3",
   "version": "3.9.12"
  }
 },
 "nbformat": 4,
 "nbformat_minor": 5
}
