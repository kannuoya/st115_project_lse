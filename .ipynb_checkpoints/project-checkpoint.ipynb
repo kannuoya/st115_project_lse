{
 "cells": [
  {
   "cell_type": "code",
   "execution_count": 1,
   "id": "be7f4d00",
   "metadata": {
    "scrolled": true
   },
   "outputs": [
    {
     "data": {
      "text/plain": [
       "['Philippe Aghion',\n",
       " 'Nava Ashraf',\n",
       " 'Oriana Bandiera',\n",
       " 'Sir Charles Bean',\n",
       " 'Tim Besley',\n",
       " 'Mohan Bijapur',\n",
       " 'Gharad Bryan',\n",
       " 'Robin Burgess',\n",
       " 'Michael Callen',\n",
       " 'Francesco Caselli',\n",
       " 'Frank Cowell',\n",
       " 'Wouter Den Haan',\n",
       " 'Maarten De Ridder',\n",
       " 'Swati Dhingra',\n",
       " 'Jeremiah Dittmar',\n",
       " 'Matthias Doepke',\n",
       " 'Andrew Ellis',\n",
       " 'Alessandro Gavazza',\n",
       " 'Maitreesh Ghatak',\n",
       " 'Michael Gmeiner',\n",
       " 'Vassilis Hajivassiliou',\n",
       " 'Jonathon Hazell',\n",
       " 'Javier Hidalgo',\n",
       " 'Ethan Ilzetzki',\n",
       " 'Xavier Jaravel',\n",
       " 'Keyu Jin',\n",
       " 'Tatiana Komarova',\n",
       " 'Katarzyna Krajniewska',\n",
       " 'Camille Landais',\n",
       " 'Jonathan Leape',\n",
       " 'Gilat Levy',\n",
       " 'Matthew Levy',\n",
       " 'Stephen Machin',\n",
       " 'Isabela Manelici',\n",
       " 'Alan Manning',\n",
       " 'Rachael Meager',\n",
       " 'Antonio Mele',\n",
       " 'Guy Michaels',\n",
       " 'Benjamin Moll',\n",
       " 'John Moore',\n",
       " 'Dmitry Mukhin',\n",
       " 'Francesco Nava',\n",
       " 'Rachel Ngai',\n",
       " 'Junius Olivier',\n",
       " 'Taisuke Otsu',\n",
       " 'Martin Pesendorfer',\n",
       " 'Dimitra Petropoulou',\n",
       " 'Michele Piccione',\n",
       " 'Steve Pischke',\n",
       " 'Sir Christopher Pissarides',\n",
       " 'Ronny Razin',\n",
       " 'Daniel Reck',\n",
       " 'Ricardo Reis',\n",
       " 'Nico Rosetti',\n",
       " 'Jane Olmstead-Rumsey',\n",
       " 'Thomas Sampson',\n",
       " 'Christopher Sandmann',\n",
       " 'Marcia Schafgans',\n",
       " 'Mark Schankerman',\n",
       " 'Pasquale Schiraldi',\n",
       " 'Judith Shapiro',\n",
       " 'Kevin Sheedy',\n",
       " 'Kate Smith',\n",
       " 'Johannes Spinnewijn',\n",
       " 'Lord Nicholas Stern',\n",
       " 'Daniel Sturm',\n",
       " 'John Sutton',\n",
       " 'Balazs Szentes',\n",
       " 'Silvana Tenreyro',\n",
       " 'John Van Reenen',\n",
       " 'Yike Wang',\n",
       " 'Alwyn Young',\n",
       " 'Shengxing Zhang']"
      ]
     },
     "execution_count": 1,
     "metadata": {},
     "output_type": "execute_result"
    }
   ],
   "source": [
    "import requests\n",
    "from bs4 import BeautifulSoup\n",
    "import numpy as np\n",
    "import pandas as pd\n",
    "\n",
    "# Send a request to the URL of the web page\n",
    "page = requests.get(\"https://www.lse.ac.uk/economics/people/faculty\")\n",
    "\n",
    "# Create a BeautifulSoup object from the page content\n",
    "soup = BeautifulSoup(page.content, 'html.parser')\n",
    "divs = soup.select('html > body > form > div:nth-of-type(3) > div > div:nth-of-type(2) > div > div')\n",
    "num_of_staff = len(divs) + 1\n",
    "names = []\n",
    "\n",
    "for n in range(1,num_of_staff):\n",
    "    staff = soup.select_one(f'html > body > form > div:nth-of-type(3) > div > div:nth-of-type(2) > div > div:nth-of-type({n}) > div:nth-of-type(2) > p > a')\n",
    "    staff_detail = staff.text\n",
    "# Split the string into two parts at the first occurrence of \"/\"\n",
    "    parts = staff_detail.split('/', 1)\n",
    "# Get the first part of the resulting list for the full name\n",
    "    substring = parts[0]\n",
    "    names.append(substring)\n",
    "    \n",
    "names"
   ]
  },
  {
   "cell_type": "code",
   "execution_count": 2,
   "id": "0e2742f7",
   "metadata": {
    "scrolled": true
   },
   "outputs": [
    {
     "name": "stdout",
     "output_type": "stream",
     "text": [
      "API key is valid!\n"
     ]
    }
   ],
   "source": [
    "import json\n",
    "import requests\n",
    "\n",
    "with open('keys.json') as f:\n",
    "    keys = json.load(f)\n",
    "api_key = keys['spring']['api_key']\n",
    "\n",
    "url = 'https://api.springernature.com'\n",
    "params = {'name': 'Philippe Aghion', 'api_key': api_key}\n",
    "response = requests.get(url,params = params)\n",
    "\n",
    "if response.status_code == 200:\n",
    "    print(\"API key is valid!\")\n",
    "else:\n",
    "    print(\"API key is not valid.\")"
   ]
  },
  {
   "cell_type": "code",
   "execution_count": 13,
   "id": "460be46e",
   "metadata": {
    "scrolled": true
   },
   "outputs": [
    {
     "name": "stdout",
     "output_type": "stream",
     "text": [
      "{'Philippe Aghion': ['Agnès Festré', 'Diego Comin', 'Peter Howitt', 'Isabel Tecu', 'Jérôme Vandenbussche', 'Costas Meghir', 'Giovanni L. Violante†', 'Patrick Bolton', 'Steven Fries'], 'Nava Ashraf': ['Iris Bohnet', 'Nikita Piankov'], 'Oriana Bandiera': [], 'Sir Charles Bean': [], 'Tim Besley': [], 'Mohan Bijapur': [], 'Gharad Bryan': [], 'Robin Burgess': ['Stephen Howes', 'Nicholas Stern'], 'Michael Callen': [], 'Francesco Caselli': ['Gerardo Esquivel', 'Fernando Lefort'], 'Frank Cowell': ['Joan Costa-Font', 'Frank A. Cowell', 'Cecilia García-Peñalosa', 'Emmanuel Flachaire', 'Marc Fleurbaey', 'Bertil Tungodden', 'Sanghamitra Bandyopadhyay', 'Yoram Amiel', 'Wulf Gaertner', 'Carlo V. Fiorio', 'Ravi Kanbur'], 'Wouter Den Haan': [], 'Maarten De Ridder': [], 'Swati Dhingra': ['Fjolla Kondirolli'], 'Jeremiah Dittmar': [], 'Matthias Doepke': ['Michèle Tertilt', 'Fabrizio Zilibotti'], 'Andrew Ellis': [], 'Alessandro Gavazza': [], 'Maitreesh Ghatak': ['Thierry Verdier'], 'Michael Gmeiner': [], 'Vassilis Hajivassiliou': ['Vassilis A. Hajivassiliou'], 'Jonathon Hazell': [], 'Javier Hidalgo': [], 'Ethan Ilzetzki': [], 'Xavier Jaravel': [], 'Keyu Jin': ['Nicolas Coeurdacier', 'Stéphane Guibaud'], 'Tatiana Komarova': [], 'Katarzyna Krajniewska': [], 'Camille Landais': [], 'Jonathan Leape': ['Carolyn Jenkins', 'Lynne Thomas', 'Jonathan I. Leape'], 'Gilat Levy': ['Ronny Razin'], 'Matthew Levy': [], 'Stephen Machin': ['Jo Blanden', 'Andrew Eyles', 'John Reenen', 'Laura Jaitman', 'Christian Dustmann', 'Bernd Fitzenberger', 'Olivier Marie', 'Susan Harkness', 'Jane Waldfogel'], 'Isabela Manelici': [], 'Alan Manning': ['Andreas Georgiadis', 'Richard Dickens', 'Maarten Goos'], 'Rachael Meager': [], 'Antonio Mele': ['Fabio Fornari'], 'Guy Michaels': [], 'Benjamin Moll': [], 'John Moore': ['Carine Staropoli', 'John H. Moore', 'David Friedman', 'Alan Rufus Waters', 'Bernard F. Lentz', 'Gordon Tullock'], 'Dmitry Mukhin': ['Oleg Itskhoki'], 'Francesco Nava': [], 'Rachel Ngai': [], 'Junius Olivier': [], 'Taisuke Otsu': ['Yukitoshi Matsushita'], 'Martin Pesendorfer': [], 'Dimitra Petropoulou': [], 'Michele Piccione': ['Ariel Rubinstein', 'Ken Binmore', 'Larry Samuelson'], 'Steve Pischke': [], 'Sir Christopher Pissarides': [], 'Ronny Razin': ['Gilat Levy'], 'Daniel Reck': [], 'Ricardo Reis': ['Ricardo Ferreira Reis', 'Joaquim Miranda Sarmento'], 'Nico Rosetti': [], 'Jane Olmstead-Rumsey': [], 'Thomas Sampson': [], 'Christopher Sandmann': [], 'Marcia Schafgans': ['Yulia Kotlyarova', 'Marcia M. A. Schafgans', 'Victoria Zinde-Walsh'], 'Mark Schankerman': [], 'Pasquale Schiraldi': ['Ting Liu'], 'Judith Shapiro': [], 'Kevin Sheedy': [], 'Kate Smith': [], 'Johannes Spinnewijn': ['André Decoster', 'Thomas Minten', 'Frans Spinnewyn'], 'Lord Nicholas Stern': [], 'Daniel Sturm': ['Daniel M. Sturm'], 'John Sutton': ['John D. Sutton'], 'Balazs Szentes': [], 'Silvana Tenreyro': ['J. M. C. Santos Silva'], 'John Van Reenen': [], 'Yike Wang': ['Jianfei Cao', 'Chris Gu'], 'Alwyn Young': [], 'Shengxing Zhang': []}\n",
      "{'Philippe Aghion': 19, 'Nava Ashraf': 1, 'Oriana Bandiera': 0, 'Sir Charles Bean': 0, 'Tim Besley': 0, 'Mohan Bijapur': 0, 'Gharad Bryan': 0, 'Robin Burgess': 1, 'Michael Callen': 0, 'Francesco Caselli': 5, 'Frank Cowell': 24, 'Wouter Den Haan': 0, 'Maarten De Ridder': 0, 'Swati Dhingra': 1, 'Jeremiah Dittmar': 0, 'Matthias Doepke': 6, 'Andrew Ellis': 0, 'Alessandro Gavazza': 0, 'Maitreesh Ghatak': 2, 'Michael Gmeiner': 0, 'Vassilis Hajivassiliou': 2, 'Jonathon Hazell': 0, 'Javier Hidalgo': 0, 'Ethan Ilzetzki': 0, 'Xavier Jaravel': 0, 'Keyu Jin': 1, 'Tatiana Komarova': 0, 'Katarzyna Krajniewska': 0, 'Camille Landais': 0, 'Jonathan Leape': 3, 'Gilat Levy': 2, 'Matthew Levy': 0, 'Stephen Machin': 10, 'Isabela Manelici': 0, 'Alan Manning': 7, 'Rachael Meager': 0, 'Antonio Mele': 5, 'Guy Michaels': 0, 'Benjamin Moll': 0, 'John Moore': 3, 'Dmitry Mukhin': 1, 'Francesco Nava': 0, 'Rachel Ngai': 0, 'Junius Olivier': 0, 'Taisuke Otsu': 1, 'Martin Pesendorfer': 0, 'Dimitra Petropoulou': 0, 'Michele Piccione': 2, 'Steve Pischke': 0, 'Sir Christopher Pissarides': 0, 'Ronny Razin': 2, 'Daniel Reck': 0, 'Ricardo Reis': 2, 'Nico Rosetti': 0, 'Jane Olmstead-Rumsey': 0, 'Thomas Sampson': 0, 'Christopher Sandmann': 0, 'Marcia Schafgans': 2, 'Mark Schankerman': 0, 'Pasquale Schiraldi': 1, 'Judith Shapiro': 0, 'Kevin Sheedy': 0, 'Kate Smith': 0, 'Johannes Spinnewijn': 2, 'Lord Nicholas Stern': 0, 'Daniel Sturm': 1, 'John Sutton': 5, 'Balazs Szentes': 0, 'Silvana Tenreyro': 1, 'John Van Reenen': 0, 'Yike Wang': 1, 'Alwyn Young': 1, 'Shengxing Zhang': 0}\n"
     ]
    }
   ],
   "source": [
    "dict_co_creator_name={}\n",
    "dict_num_paper={}\n",
    "for name in names:\n",
    "    list_name = name.split(' ')\n",
    "    first_name = list_name[0]\n",
    "    surname = list_name[1]\n",
    "    reformat_name = surname + ', '+ first_name\n",
    "    url=f'https://api.springernature.com/metadata/json?api_key={api_key}&q=name%3A%22{surname}%2C%20{first_name}%22%2C%20subject%3AEconomics&s=1&p=10'\n",
    "    r = requests.get(url)\n",
    "    search_result = json.loads(r.text)\n",
    "    dict_co_creator_name[name] = []\n",
    "    for i in range (len(search_result['records'])):\n",
    "        creators = search_result['records'][i]['creators']\n",
    "        for creator in creators:\n",
    "            co_creator = creator['creator']\n",
    "            if co_creator != reformat_name:\n",
    "                list_name = co_creator.split(',')\n",
    "                first_name = list_name[1][1:]\n",
    "                surname = list_name[0]\n",
    "                format_name = first_name+' '+surname\n",
    "                if format_name not in dict_co_creator_name[name]:\n",
    "                    dict_co_creator_name[name].append(format_name)\n",
    "    \n",
    "    dict_num_paper[name]=0\n",
    "    years = search_result[\"facets\"][3]['values']\n",
    "    total_num_papers = 0\n",
    "    for year in years:\n",
    "        dict_num_paper[name] += int(year['count'])\n",
    "print(dict_co_creator_name)\n",
    "print(dict_num_paper)"
   ]
  },
  {
   "cell_type": "code",
   "execution_count": null,
   "id": "68b7a845",
   "metadata": {},
   "outputs": [],
   "source": []
  }
 ],
 "metadata": {
  "kernelspec": {
   "display_name": "Python 3 (ipykernel)",
   "language": "python",
   "name": "python3"
  },
  "language_info": {
   "codemirror_mode": {
    "name": "ipython",
    "version": 3
   },
   "file_extension": ".py",
   "mimetype": "text/x-python",
   "name": "python",
   "nbconvert_exporter": "python",
   "pygments_lexer": "ipython3",
   "version": "3.9.12"
  }
 },
 "nbformat": 4,
 "nbformat_minor": 5
}
